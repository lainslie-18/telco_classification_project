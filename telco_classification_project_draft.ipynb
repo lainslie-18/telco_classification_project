{
 "cells": [
  {
   "cell_type": "code",
   "execution_count": 21,
   "id": "7f55d57b",
   "metadata": {},
   "outputs": [],
   "source": [
    "# imports\n",
    "import pandas as pd\n",
    "import numpy as np\n",
    "import matplotlib.pyplot as plt\n",
    "import seaborn as sns\n",
    "from sklearn.model_selection import train_test_split\n",
    "from scipy import stats\n",
    "\n",
    "from sklearn.ensemble import RandomForestClassifier\n",
    "from sklearn.neighbors import KNeighborsClassifier\n",
    "from sklearn.linear_model import LogisticRegression\n",
    "from sklearn.metrics import recall_score, precision_score, f1_score, accuracy_score\n",
    "from sklearn.tree import export_graphviz\n",
    "from sklearn.metrics import classification_report\n",
    "from sklearn.metrics import confusion_matrix\n",
    "\n",
    "import graphviz\n",
    "from graphviz import Graph\n",
    "\n",
    "import env\n",
    "import acquire\n",
    "import prepare\n",
    "import os\n",
    "\n",
    "# turn off pink boxes for demo\n",
    "import warnings\n",
    "warnings.filterwarnings(\"ignore\")"
   ]
  },
  {
   "cell_type": "code",
   "execution_count": 6,
   "id": "6a1b3cc2",
   "metadata": {},
   "outputs": [],
   "source": [
    "# change setting to show all columns\n",
    "pd.set_option('display.max_columns', None)"
   ]
  },
  {
   "cell_type": "markdown",
   "id": "2400353b",
   "metadata": {},
   "source": [
    "# Telco Customer Churn"
   ]
  },
  {
   "cell_type": "markdown",
   "id": "53c3d600",
   "metadata": {},
   "source": [
    "Lori Ainslie, 11/29/21"
   ]
  },
  {
   "cell_type": "markdown",
   "id": "a063310f",
   "metadata": {},
   "source": [
    "***"
   ]
  },
  {
   "cell_type": "markdown",
   "id": "498ef2ae",
   "metadata": {},
   "source": [
    "# Executive Summary\n",
    "\n",
    "## Project Goals\n",
    "\n",
    "- To identify drivers of customer churn and find a solution for increasing customer retention\n",
    "\n",
    "- To construct a model that accurately predicts which customers are most likely to churn to focus retention efforts\n",
    "\n",
    "## Project Description\n",
    "\n",
    "- Reducing churn is important to the company because lost customers means lost revenue. The cost of acquiring a new customer is much higher than maintaining a customer so this project will attempt to identify strategies that reduce customer churn. In the process, we are also looking for ways to improve customer satisfaction to increase the company's rate of growth."
   ]
  },
  {
   "cell_type": "markdown",
   "id": "901f1891",
   "metadata": {},
   "source": [
    "***"
   ]
  },
  {
   "cell_type": "markdown",
   "id": "d3243e49",
   "metadata": {},
   "source": [
    "# Acquisition"
   ]
  },
  {
   "cell_type": "code",
   "execution_count": 22,
   "id": "4720b225",
   "metadata": {},
   "outputs": [
    {
     "data": {
      "text/html": [
       "<div>\n",
       "<style scoped>\n",
       "    .dataframe tbody tr th:only-of-type {\n",
       "        vertical-align: middle;\n",
       "    }\n",
       "\n",
       "    .dataframe tbody tr th {\n",
       "        vertical-align: top;\n",
       "    }\n",
       "\n",
       "    .dataframe thead th {\n",
       "        text-align: right;\n",
       "    }\n",
       "</style>\n",
       "<table border=\"1\" class=\"dataframe\">\n",
       "  <thead>\n",
       "    <tr style=\"text-align: right;\">\n",
       "      <th></th>\n",
       "      <th>payment_type_id</th>\n",
       "      <th>internet_service_type_id</th>\n",
       "      <th>contract_type_id</th>\n",
       "      <th>customer_id</th>\n",
       "      <th>gender</th>\n",
       "      <th>senior_citizen</th>\n",
       "      <th>partner</th>\n",
       "      <th>dependents</th>\n",
       "      <th>tenure</th>\n",
       "      <th>phone_service</th>\n",
       "      <th>multiple_lines</th>\n",
       "      <th>online_security</th>\n",
       "      <th>online_backup</th>\n",
       "      <th>device_protection</th>\n",
       "      <th>tech_support</th>\n",
       "      <th>streaming_tv</th>\n",
       "      <th>streaming_movies</th>\n",
       "      <th>paperless_billing</th>\n",
       "      <th>monthly_charges</th>\n",
       "      <th>total_charges</th>\n",
       "      <th>churn</th>\n",
       "      <th>contract_type</th>\n",
       "      <th>internet_service_type</th>\n",
       "      <th>payment_type</th>\n",
       "    </tr>\n",
       "  </thead>\n",
       "  <tbody>\n",
       "    <tr>\n",
       "      <th>0</th>\n",
       "      <td>2</td>\n",
       "      <td>1</td>\n",
       "      <td>3</td>\n",
       "      <td>0016-QLJIS</td>\n",
       "      <td>Female</td>\n",
       "      <td>0</td>\n",
       "      <td>Yes</td>\n",
       "      <td>Yes</td>\n",
       "      <td>65</td>\n",
       "      <td>Yes</td>\n",
       "      <td>Yes</td>\n",
       "      <td>Yes</td>\n",
       "      <td>Yes</td>\n",
       "      <td>Yes</td>\n",
       "      <td>Yes</td>\n",
       "      <td>Yes</td>\n",
       "      <td>Yes</td>\n",
       "      <td>Yes</td>\n",
       "      <td>90.45</td>\n",
       "      <td>5957.9</td>\n",
       "      <td>No</td>\n",
       "      <td>Two year</td>\n",
       "      <td>DSL</td>\n",
       "      <td>Mailed check</td>\n",
       "    </tr>\n",
       "    <tr>\n",
       "      <th>1</th>\n",
       "      <td>4</td>\n",
       "      <td>1</td>\n",
       "      <td>3</td>\n",
       "      <td>0017-DINOC</td>\n",
       "      <td>Male</td>\n",
       "      <td>0</td>\n",
       "      <td>No</td>\n",
       "      <td>No</td>\n",
       "      <td>54</td>\n",
       "      <td>No</td>\n",
       "      <td>No phone service</td>\n",
       "      <td>Yes</td>\n",
       "      <td>No</td>\n",
       "      <td>No</td>\n",
       "      <td>Yes</td>\n",
       "      <td>Yes</td>\n",
       "      <td>No</td>\n",
       "      <td>No</td>\n",
       "      <td>45.20</td>\n",
       "      <td>2460.55</td>\n",
       "      <td>No</td>\n",
       "      <td>Two year</td>\n",
       "      <td>DSL</td>\n",
       "      <td>Credit card (automatic)</td>\n",
       "    </tr>\n",
       "    <tr>\n",
       "      <th>2</th>\n",
       "      <td>3</td>\n",
       "      <td>1</td>\n",
       "      <td>3</td>\n",
       "      <td>0019-GFNTW</td>\n",
       "      <td>Female</td>\n",
       "      <td>0</td>\n",
       "      <td>No</td>\n",
       "      <td>No</td>\n",
       "      <td>56</td>\n",
       "      <td>No</td>\n",
       "      <td>No phone service</td>\n",
       "      <td>Yes</td>\n",
       "      <td>Yes</td>\n",
       "      <td>Yes</td>\n",
       "      <td>Yes</td>\n",
       "      <td>No</td>\n",
       "      <td>No</td>\n",
       "      <td>No</td>\n",
       "      <td>45.05</td>\n",
       "      <td>2560.1</td>\n",
       "      <td>No</td>\n",
       "      <td>Two year</td>\n",
       "      <td>DSL</td>\n",
       "      <td>Bank transfer (automatic)</td>\n",
       "    </tr>\n",
       "    <tr>\n",
       "      <th>3</th>\n",
       "      <td>4</td>\n",
       "      <td>1</td>\n",
       "      <td>3</td>\n",
       "      <td>0056-EPFBG</td>\n",
       "      <td>Male</td>\n",
       "      <td>0</td>\n",
       "      <td>Yes</td>\n",
       "      <td>Yes</td>\n",
       "      <td>20</td>\n",
       "      <td>No</td>\n",
       "      <td>No phone service</td>\n",
       "      <td>Yes</td>\n",
       "      <td>No</td>\n",
       "      <td>Yes</td>\n",
       "      <td>Yes</td>\n",
       "      <td>No</td>\n",
       "      <td>No</td>\n",
       "      <td>Yes</td>\n",
       "      <td>39.40</td>\n",
       "      <td>825.4</td>\n",
       "      <td>No</td>\n",
       "      <td>Two year</td>\n",
       "      <td>DSL</td>\n",
       "      <td>Credit card (automatic)</td>\n",
       "    </tr>\n",
       "    <tr>\n",
       "      <th>4</th>\n",
       "      <td>3</td>\n",
       "      <td>1</td>\n",
       "      <td>3</td>\n",
       "      <td>0078-XZMHT</td>\n",
       "      <td>Male</td>\n",
       "      <td>0</td>\n",
       "      <td>Yes</td>\n",
       "      <td>No</td>\n",
       "      <td>72</td>\n",
       "      <td>Yes</td>\n",
       "      <td>Yes</td>\n",
       "      <td>No</td>\n",
       "      <td>Yes</td>\n",
       "      <td>Yes</td>\n",
       "      <td>Yes</td>\n",
       "      <td>Yes</td>\n",
       "      <td>Yes</td>\n",
       "      <td>Yes</td>\n",
       "      <td>85.15</td>\n",
       "      <td>6316.2</td>\n",
       "      <td>No</td>\n",
       "      <td>Two year</td>\n",
       "      <td>DSL</td>\n",
       "      <td>Bank transfer (automatic)</td>\n",
       "    </tr>\n",
       "  </tbody>\n",
       "</table>\n",
       "</div>"
      ],
      "text/plain": [
       "   payment_type_id  internet_service_type_id  contract_type_id customer_id  \\\n",
       "0                2                         1                 3  0016-QLJIS   \n",
       "1                4                         1                 3  0017-DINOC   \n",
       "2                3                         1                 3  0019-GFNTW   \n",
       "3                4                         1                 3  0056-EPFBG   \n",
       "4                3                         1                 3  0078-XZMHT   \n",
       "\n",
       "   gender  senior_citizen partner dependents  tenure phone_service  \\\n",
       "0  Female               0     Yes        Yes      65           Yes   \n",
       "1    Male               0      No         No      54            No   \n",
       "2  Female               0      No         No      56            No   \n",
       "3    Male               0     Yes        Yes      20            No   \n",
       "4    Male               0     Yes         No      72           Yes   \n",
       "\n",
       "     multiple_lines online_security online_backup device_protection  \\\n",
       "0               Yes             Yes           Yes               Yes   \n",
       "1  No phone service             Yes            No                No   \n",
       "2  No phone service             Yes           Yes               Yes   \n",
       "3  No phone service             Yes            No               Yes   \n",
       "4               Yes              No           Yes               Yes   \n",
       "\n",
       "  tech_support streaming_tv streaming_movies paperless_billing  \\\n",
       "0          Yes          Yes              Yes               Yes   \n",
       "1          Yes          Yes               No                No   \n",
       "2          Yes           No               No                No   \n",
       "3          Yes           No               No               Yes   \n",
       "4          Yes          Yes              Yes               Yes   \n",
       "\n",
       "   monthly_charges total_charges churn contract_type internet_service_type  \\\n",
       "0            90.45        5957.9    No      Two year                   DSL   \n",
       "1            45.20       2460.55    No      Two year                   DSL   \n",
       "2            45.05        2560.1    No      Two year                   DSL   \n",
       "3            39.40         825.4    No      Two year                   DSL   \n",
       "4            85.15        6316.2    No      Two year                   DSL   \n",
       "\n",
       "                payment_type  \n",
       "0               Mailed check  \n",
       "1    Credit card (automatic)  \n",
       "2  Bank transfer (automatic)  \n",
       "3    Credit card (automatic)  \n",
       "4  Bank transfer (automatic)  "
      ]
     },
     "execution_count": 22,
     "metadata": {},
     "output_type": "execute_result"
    }
   ],
   "source": [
    "# pull in telco data & check out what first few rows look like\n",
    "df = acquire.get_telco_data()\n",
    "df.head()"
   ]
  },
  {
   "cell_type": "markdown",
   "id": "3572d218",
   "metadata": {},
   "source": [
    "***"
   ]
  },
  {
   "cell_type": "markdown",
   "id": "17d2e46b",
   "metadata": {},
   "source": [
    "# Preparation"
   ]
  },
  {
   "cell_type": "code",
   "execution_count": null,
   "id": "30fbd3d9",
   "metadata": {
    "scrolled": true
   },
   "outputs": [],
   "source": [
    "# check column names, shape, data types, null values\n",
    "df.info()"
   ]
  },
  {
   "cell_type": "code",
   "execution_count": null,
   "id": "ed7360af",
   "metadata": {},
   "outputs": [],
   "source": [
    "# check for outliers and get statistical information\n",
    "df[['monthly_charges', 'total_charges']].describe()"
   ]
  },
  {
   "cell_type": "code",
   "execution_count": null,
   "id": "6c1762fa",
   "metadata": {},
   "outputs": [],
   "source": [
    "# change data type for total charges from string to float\n",
    "df.total_charges = pd.to_numeric(df.total_charges, errors='coerce')"
   ]
  },
  {
   "cell_type": "code",
   "execution_count": null,
   "id": "c3924b88",
   "metadata": {
    "scrolled": true
   },
   "outputs": [],
   "source": [
    "df.total_charges.dtype"
   ]
  },
  {
   "cell_type": "code",
   "execution_count": null,
   "id": "33b891dc",
   "metadata": {},
   "outputs": [],
   "source": [
    "# drop rows where new customers have not yet had opportunity to churn\n",
    "df = df[df.total_charges.notnull()]\n",
    "df.shape"
   ]
  },
  {
   "cell_type": "code",
   "execution_count": null,
   "id": "a7b3959b",
   "metadata": {},
   "outputs": [],
   "source": [
    "# review column names\n",
    "df.columns"
   ]
  },
  {
   "cell_type": "code",
   "execution_count": null,
   "id": "a108758f",
   "metadata": {},
   "outputs": [],
   "source": [
    "# check categorical column values\n",
    "col_list = df.columns.tolist()\n",
    "for col in col_list:\n",
    "    if col not in ['customer_id', 'tenure', 'monthly_charges', 'total_charges']:\n",
    "        print(df[col].value_counts(dropna=False))"
   ]
  },
  {
   "cell_type": "code",
   "execution_count": null,
   "id": "3377c977",
   "metadata": {
    "scrolled": false
   },
   "outputs": [],
   "source": [
    "# check data\n",
    "df.head()"
   ]
  },
  {
   "cell_type": "code",
   "execution_count": null,
   "id": "d8abd143",
   "metadata": {},
   "outputs": [],
   "source": [
    "# replace information included in another column to create binary values and simplify encoding\n",
    "df.replace('No internet service', 'No', inplace=True)\n",
    "df.online_security.value_counts()"
   ]
  },
  {
   "cell_type": "code",
   "execution_count": null,
   "id": "e4161770",
   "metadata": {},
   "outputs": [],
   "source": [
    "# create df of dummy variables for columns with two values, dropping first\n",
    "dummy_df1 = pd.get_dummies(df[['gender', 'partner', 'dependents', 'online_security', 'online_backup', 'device_protection', 'tech_support', 'streaming_tv', 'streaming_movies', 'paperless_billing', 'churn']], drop_first=True)"
   ]
  },
  {
   "cell_type": "code",
   "execution_count": null,
   "id": "23b39e29",
   "metadata": {},
   "outputs": [],
   "source": [
    "# create df of dummy variables for columns with more than two values, keeping all columns for clarity\n",
    "dummy_df2 = pd.get_dummies(df[['multiple_lines','contract_type', 'internet_service_type', 'payment_type']])"
   ]
  },
  {
   "cell_type": "code",
   "execution_count": null,
   "id": "7e8bbbda",
   "metadata": {},
   "outputs": [],
   "source": [
    "# identify and drop columns that are unnecessary or duplicated\n",
    "cols_to_drop = ['payment_type_id', 'internet_service_type_id', 'contract_type_id',\n",
    "                'gender','partner', 'dependents', 'phone_service', 'online_security',\n",
    "       'online_backup', 'device_protection', 'tech_support', 'streaming_tv',\n",
    "       'streaming_movies', 'paperless_billing', 'churn']\n",
    "df = df.drop(columns=cols_to_drop)"
   ]
  },
  {
   "cell_type": "code",
   "execution_count": null,
   "id": "3aec7abd",
   "metadata": {},
   "outputs": [],
   "source": [
    "# concatenate dummy variable dfs onto original dataframe\n",
    "df = pd.concat([df, dummy_df1, dummy_df2], axis=1)"
   ]
  },
  {
   "cell_type": "code",
   "execution_count": null,
   "id": "b908c5ab",
   "metadata": {},
   "outputs": [],
   "source": [
    "# check shape to see if changes were made\n",
    "df.shape"
   ]
  },
  {
   "cell_type": "code",
   "execution_count": null,
   "id": "1c54f15b",
   "metadata": {},
   "outputs": [],
   "source": [
    "# check column names\n",
    "df.columns"
   ]
  },
  {
   "cell_type": "code",
   "execution_count": null,
   "id": "3ebd63a8",
   "metadata": {},
   "outputs": [],
   "source": [
    "# rename columns for clarity\n",
    "df.rename(columns={\n",
    "                'gender_Male': 'is_male',\n",
    "                'partner_Yes': 'has_partner',\n",
    "                'dependents_Yes': 'has_dependents',\n",
    "                'online_security_Yes': 'online_security',\n",
    "                'online_backup_Yes': 'online_backup',\n",
    "                'device_protection_Yes': 'device_protection',\n",
    "                'tech_support_Yes': 'tech_support',\n",
    "                'streaming_tv_Yes': 'streaming_tv',\n",
    "                'streaming_movies_Yes': 'streaming_movies',\n",
    "                'paperless_billing_Yes': 'paperless_billing',\n",
    "                'churn_Yes': 'churn',\n",
    "                'multiple_lines_No': 'one_line',\n",
    "                'multiple_lines_No phone service': 'no_phone_service',\n",
    "                'multiple_lines_Yes': 'has_multiple_lines',\n",
    "                'contract_type_Month-to-month': 'month_to_month_contract',\n",
    "                'contract_type_One year': 'one_year_contract',\n",
    "                'contract_type_Two year': 'two_year_contract',\n",
    "                'internet_service_type_DSL': 'dsl_internet',\n",
    "                'internet_service_type_Fiber optic': 'fiber_optic_internet',\n",
    "                'internet_service_type_None': 'no_internet_service',\n",
    "                'payment_type_Bank transfer (automatic)': 'bank_transfer_payment_automatic',\n",
    "                'payment_type_Credit card (automatic)': 'credit_card_payment_automatic',\n",
    "                'payment_type_Electronic check': 'electronic_check_payment',\n",
    "                'payment_type_Mailed check': 'mailed_check_payment'}, inplace=True)"
   ]
  },
  {
   "cell_type": "code",
   "execution_count": null,
   "id": "11667051",
   "metadata": {
    "scrolled": true
   },
   "outputs": [],
   "source": [
    "# check that changes were made\n",
    "df.columns"
   ]
  },
  {
   "cell_type": "code",
   "execution_count": null,
   "id": "d441e6c1",
   "metadata": {},
   "outputs": [],
   "source": [
    "# specify numerical columns\n",
    "num_cols = ['senior_citizen', 'multiple_lines', 'contract_type', 'internet_service_type',\n",
    "       'payment_type', 'is_male', 'has_partner', 'has_dependents',\n",
    "       'online_security', 'online_backup', 'device_protection', 'tech_support',\n",
    "       'streaming_tv', 'streaming_movies', 'paperless_billing', 'churn']"
   ]
  },
  {
   "cell_type": "code",
   "execution_count": null,
   "id": "36d597f8",
   "metadata": {},
   "outputs": [],
   "source": [
    "# create histogram for numerical columns to check out distribution\n",
    "for col in num_cols: \n",
    "    plt.hist(df[col])\n",
    "    plt.title(col)\n",
    "    plt.show()"
   ]
  },
  {
   "cell_type": "code",
   "execution_count": null,
   "id": "144a27d8",
   "metadata": {},
   "outputs": [],
   "source": [
    "df.monthly_charges.value_counts(bins=5, normalize=True, sort=False)"
   ]
  },
  {
   "cell_type": "code",
   "execution_count": 9,
   "id": "0e60ba19",
   "metadata": {},
   "outputs": [],
   "source": [
    "def split_telco_data(df):\n",
    "    '''\n",
    "    This function takes in a dataframe and splits the data into train, validate and test samples. \n",
    "    Test, validate, and train are 20%, 24%, & 56% of the original dataset, respectively. \n",
    "    The function returns train, validate and test dataframes. \n",
    "    '''\n",
    "    # split dataframe 80/20, stratify on churn to ensure equal proportions in both dataframes\n",
    "    train_validate, test = train_test_split(df, test_size=.2, \n",
    "                                            random_state=369, \n",
    "                                            stratify=df.churn)\n",
    "    # split larger dataframe from previous split 70/30, stratify on churn\n",
    "    train, validate = train_test_split(train_validate, test_size=.3, \n",
    "                                       random_state=123, \n",
    "                                       stratify=train_validate.churn)\n",
    "    # results in 3 dataframes\n",
    "    return train, validate, test"
   ]
  },
  {
   "cell_type": "code",
   "execution_count": 10,
   "id": "a981c6d6",
   "metadata": {},
   "outputs": [
    {
     "data": {
      "text/html": [
       "<div>\n",
       "<style scoped>\n",
       "    .dataframe tbody tr th:only-of-type {\n",
       "        vertical-align: middle;\n",
       "    }\n",
       "\n",
       "    .dataframe tbody tr th {\n",
       "        vertical-align: top;\n",
       "    }\n",
       "\n",
       "    .dataframe thead th {\n",
       "        text-align: right;\n",
       "    }\n",
       "</style>\n",
       "<table border=\"1\" class=\"dataframe\">\n",
       "  <thead>\n",
       "    <tr style=\"text-align: right;\">\n",
       "      <th></th>\n",
       "      <th>payment_type_id</th>\n",
       "      <th>internet_service_type_id</th>\n",
       "      <th>contract_type_id</th>\n",
       "      <th>customer_id</th>\n",
       "      <th>gender</th>\n",
       "      <th>senior_citizen</th>\n",
       "      <th>partner</th>\n",
       "      <th>dependents</th>\n",
       "      <th>tenure</th>\n",
       "      <th>phone_service</th>\n",
       "      <th>multiple_lines</th>\n",
       "      <th>online_security</th>\n",
       "      <th>online_backup</th>\n",
       "      <th>device_protection</th>\n",
       "      <th>tech_support</th>\n",
       "      <th>streaming_tv</th>\n",
       "      <th>streaming_movies</th>\n",
       "      <th>paperless_billing</th>\n",
       "      <th>monthly_charges</th>\n",
       "      <th>total_charges</th>\n",
       "      <th>churn</th>\n",
       "      <th>contract_type</th>\n",
       "      <th>internet_service_type</th>\n",
       "      <th>payment_type</th>\n",
       "    </tr>\n",
       "  </thead>\n",
       "  <tbody>\n",
       "    <tr>\n",
       "      <th>5652</th>\n",
       "      <td>3</td>\n",
       "      <td>3</td>\n",
       "      <td>3</td>\n",
       "      <td>2075-PUEPR</td>\n",
       "      <td>Male</td>\n",
       "      <td>0</td>\n",
       "      <td>Yes</td>\n",
       "      <td>Yes</td>\n",
       "      <td>55</td>\n",
       "      <td>Yes</td>\n",
       "      <td>No</td>\n",
       "      <td>No internet service</td>\n",
       "      <td>No internet service</td>\n",
       "      <td>No internet service</td>\n",
       "      <td>No internet service</td>\n",
       "      <td>No internet service</td>\n",
       "      <td>No internet service</td>\n",
       "      <td>No</td>\n",
       "      <td>19.35</td>\n",
       "      <td>1153.25</td>\n",
       "      <td>No</td>\n",
       "      <td>Two year</td>\n",
       "      <td>None</td>\n",
       "      <td>Bank transfer (automatic)</td>\n",
       "    </tr>\n",
       "    <tr>\n",
       "      <th>2031</th>\n",
       "      <td>2</td>\n",
       "      <td>1</td>\n",
       "      <td>1</td>\n",
       "      <td>6752-APNJL</td>\n",
       "      <td>Male</td>\n",
       "      <td>0</td>\n",
       "      <td>Yes</td>\n",
       "      <td>Yes</td>\n",
       "      <td>42</td>\n",
       "      <td>Yes</td>\n",
       "      <td>No</td>\n",
       "      <td>Yes</td>\n",
       "      <td>Yes</td>\n",
       "      <td>No</td>\n",
       "      <td>No</td>\n",
       "      <td>No</td>\n",
       "      <td>No</td>\n",
       "      <td>No</td>\n",
       "      <td>54.50</td>\n",
       "      <td>2301.15</td>\n",
       "      <td>No</td>\n",
       "      <td>Month-to-month</td>\n",
       "      <td>DSL</td>\n",
       "      <td>Mailed check</td>\n",
       "    </tr>\n",
       "    <tr>\n",
       "      <th>5233</th>\n",
       "      <td>1</td>\n",
       "      <td>2</td>\n",
       "      <td>1</td>\n",
       "      <td>8647-SDTWQ</td>\n",
       "      <td>Male</td>\n",
       "      <td>0</td>\n",
       "      <td>Yes</td>\n",
       "      <td>Yes</td>\n",
       "      <td>57</td>\n",
       "      <td>Yes</td>\n",
       "      <td>Yes</td>\n",
       "      <td>No</td>\n",
       "      <td>No</td>\n",
       "      <td>No</td>\n",
       "      <td>No</td>\n",
       "      <td>No</td>\n",
       "      <td>No</td>\n",
       "      <td>Yes</td>\n",
       "      <td>74.30</td>\n",
       "      <td>4018.35</td>\n",
       "      <td>No</td>\n",
       "      <td>Month-to-month</td>\n",
       "      <td>Fiber optic</td>\n",
       "      <td>Electronic check</td>\n",
       "    </tr>\n",
       "    <tr>\n",
       "      <th>638</th>\n",
       "      <td>3</td>\n",
       "      <td>1</td>\n",
       "      <td>2</td>\n",
       "      <td>0134-XWXCE</td>\n",
       "      <td>Female</td>\n",
       "      <td>1</td>\n",
       "      <td>No</td>\n",
       "      <td>No</td>\n",
       "      <td>44</td>\n",
       "      <td>Yes</td>\n",
       "      <td>No</td>\n",
       "      <td>No</td>\n",
       "      <td>No</td>\n",
       "      <td>Yes</td>\n",
       "      <td>Yes</td>\n",
       "      <td>Yes</td>\n",
       "      <td>Yes</td>\n",
       "      <td>No</td>\n",
       "      <td>74.85</td>\n",
       "      <td>3268.05</td>\n",
       "      <td>No</td>\n",
       "      <td>One year</td>\n",
       "      <td>DSL</td>\n",
       "      <td>Bank transfer (automatic)</td>\n",
       "    </tr>\n",
       "    <tr>\n",
       "      <th>413</th>\n",
       "      <td>4</td>\n",
       "      <td>1</td>\n",
       "      <td>3</td>\n",
       "      <td>6695-AMZUF</td>\n",
       "      <td>Female</td>\n",
       "      <td>0</td>\n",
       "      <td>Yes</td>\n",
       "      <td>No</td>\n",
       "      <td>70</td>\n",
       "      <td>Yes</td>\n",
       "      <td>No</td>\n",
       "      <td>Yes</td>\n",
       "      <td>Yes</td>\n",
       "      <td>Yes</td>\n",
       "      <td>Yes</td>\n",
       "      <td>Yes</td>\n",
       "      <td>Yes</td>\n",
       "      <td>No</td>\n",
       "      <td>86.45</td>\n",
       "      <td>5950.2</td>\n",
       "      <td>No</td>\n",
       "      <td>Two year</td>\n",
       "      <td>DSL</td>\n",
       "      <td>Credit card (automatic)</td>\n",
       "    </tr>\n",
       "  </tbody>\n",
       "</table>\n",
       "</div>"
      ],
      "text/plain": [
       "      payment_type_id  internet_service_type_id  contract_type_id customer_id  \\\n",
       "5652                3                         3                 3  2075-PUEPR   \n",
       "2031                2                         1                 1  6752-APNJL   \n",
       "5233                1                         2                 1  8647-SDTWQ   \n",
       "638                 3                         1                 2  0134-XWXCE   \n",
       "413                 4                         1                 3  6695-AMZUF   \n",
       "\n",
       "      gender  senior_citizen partner dependents  tenure phone_service  \\\n",
       "5652    Male               0     Yes        Yes      55           Yes   \n",
       "2031    Male               0     Yes        Yes      42           Yes   \n",
       "5233    Male               0     Yes        Yes      57           Yes   \n",
       "638   Female               1      No         No      44           Yes   \n",
       "413   Female               0     Yes         No      70           Yes   \n",
       "\n",
       "     multiple_lines      online_security        online_backup  \\\n",
       "5652             No  No internet service  No internet service   \n",
       "2031             No                  Yes                  Yes   \n",
       "5233            Yes                   No                   No   \n",
       "638              No                   No                   No   \n",
       "413              No                  Yes                  Yes   \n",
       "\n",
       "        device_protection         tech_support         streaming_tv  \\\n",
       "5652  No internet service  No internet service  No internet service   \n",
       "2031                   No                   No                   No   \n",
       "5233                   No                   No                   No   \n",
       "638                   Yes                  Yes                  Yes   \n",
       "413                   Yes                  Yes                  Yes   \n",
       "\n",
       "         streaming_movies paperless_billing  monthly_charges total_charges  \\\n",
       "5652  No internet service                No            19.35       1153.25   \n",
       "2031                   No                No            54.50       2301.15   \n",
       "5233                   No               Yes            74.30       4018.35   \n",
       "638                   Yes                No            74.85       3268.05   \n",
       "413                   Yes                No            86.45        5950.2   \n",
       "\n",
       "     churn   contract_type internet_service_type               payment_type  \n",
       "5652    No        Two year                  None  Bank transfer (automatic)  \n",
       "2031    No  Month-to-month                   DSL               Mailed check  \n",
       "5233    No  Month-to-month           Fiber optic           Electronic check  \n",
       "638     No        One year                   DSL  Bank transfer (automatic)  \n",
       "413     No        Two year                   DSL    Credit card (automatic)  "
      ]
     },
     "execution_count": 10,
     "metadata": {},
     "output_type": "execute_result"
    }
   ],
   "source": [
    "# use function above to split telco data, assign to variables, and check train dataset\n",
    "train, validate, test = split_telco_data(df)\n",
    "train.head()"
   ]
  },
  {
   "cell_type": "code",
   "execution_count": 23,
   "id": "cfeaaa1c",
   "metadata": {},
   "outputs": [
    {
     "data": {
      "text/html": [
       "<div>\n",
       "<style scoped>\n",
       "    .dataframe tbody tr th:only-of-type {\n",
       "        vertical-align: middle;\n",
       "    }\n",
       "\n",
       "    .dataframe tbody tr th {\n",
       "        vertical-align: top;\n",
       "    }\n",
       "\n",
       "    .dataframe thead th {\n",
       "        text-align: right;\n",
       "    }\n",
       "</style>\n",
       "<table border=\"1\" class=\"dataframe\">\n",
       "  <thead>\n",
       "    <tr style=\"text-align: right;\">\n",
       "      <th></th>\n",
       "      <th>customer_id</th>\n",
       "      <th>senior_citizen</th>\n",
       "      <th>tenure</th>\n",
       "      <th>multiple_lines</th>\n",
       "      <th>monthly_charges</th>\n",
       "      <th>total_charges</th>\n",
       "      <th>contract_type</th>\n",
       "      <th>internet_service_type</th>\n",
       "      <th>payment_type</th>\n",
       "      <th>is_male</th>\n",
       "      <th>has_partner</th>\n",
       "      <th>has_dependents</th>\n",
       "      <th>online_security</th>\n",
       "      <th>online_backup</th>\n",
       "      <th>device_protection</th>\n",
       "      <th>tech_support</th>\n",
       "      <th>streaming_tv</th>\n",
       "      <th>streaming_movies</th>\n",
       "      <th>paperless_billing</th>\n",
       "      <th>churn</th>\n",
       "      <th>one_line</th>\n",
       "      <th>no_phone_service</th>\n",
       "      <th>has_multiple_lines</th>\n",
       "      <th>month_to_month_contract</th>\n",
       "      <th>one_year_contract</th>\n",
       "      <th>two_year_contract</th>\n",
       "      <th>dsl_internet</th>\n",
       "      <th>fiber_optic_internet</th>\n",
       "      <th>no_internet_service</th>\n",
       "      <th>bank_transfer_payment_automatic</th>\n",
       "      <th>credit_card_payment_automatic</th>\n",
       "      <th>electronic_check_payment</th>\n",
       "      <th>mailed_check_payment</th>\n",
       "    </tr>\n",
       "  </thead>\n",
       "  <tbody>\n",
       "    <tr>\n",
       "      <th>1196</th>\n",
       "      <td>9968-FFVVH</td>\n",
       "      <td>0</td>\n",
       "      <td>63</td>\n",
       "      <td>Yes</td>\n",
       "      <td>68.80</td>\n",
       "      <td>4111.35</td>\n",
       "      <td>One year</td>\n",
       "      <td>DSL</td>\n",
       "      <td>Bank transfer (automatic)</td>\n",
       "      <td>1</td>\n",
       "      <td>0</td>\n",
       "      <td>0</td>\n",
       "      <td>1</td>\n",
       "      <td>1</td>\n",
       "      <td>1</td>\n",
       "      <td>1</td>\n",
       "      <td>0</td>\n",
       "      <td>0</td>\n",
       "      <td>0</td>\n",
       "      <td>0</td>\n",
       "      <td>0</td>\n",
       "      <td>0</td>\n",
       "      <td>1</td>\n",
       "      <td>0</td>\n",
       "      <td>1</td>\n",
       "      <td>0</td>\n",
       "      <td>1</td>\n",
       "      <td>0</td>\n",
       "      <td>0</td>\n",
       "      <td>1</td>\n",
       "      <td>0</td>\n",
       "      <td>0</td>\n",
       "      <td>0</td>\n",
       "    </tr>\n",
       "    <tr>\n",
       "      <th>4239</th>\n",
       "      <td>3956-CJUST</td>\n",
       "      <td>1</td>\n",
       "      <td>23</td>\n",
       "      <td>No</td>\n",
       "      <td>75.40</td>\n",
       "      <td>1643.55</td>\n",
       "      <td>Month-to-month</td>\n",
       "      <td>Fiber optic</td>\n",
       "      <td>Bank transfer (automatic)</td>\n",
       "      <td>0</td>\n",
       "      <td>0</td>\n",
       "      <td>0</td>\n",
       "      <td>1</td>\n",
       "      <td>0</td>\n",
       "      <td>0</td>\n",
       "      <td>0</td>\n",
       "      <td>0</td>\n",
       "      <td>0</td>\n",
       "      <td>1</td>\n",
       "      <td>0</td>\n",
       "      <td>1</td>\n",
       "      <td>0</td>\n",
       "      <td>0</td>\n",
       "      <td>1</td>\n",
       "      <td>0</td>\n",
       "      <td>0</td>\n",
       "      <td>0</td>\n",
       "      <td>1</td>\n",
       "      <td>0</td>\n",
       "      <td>1</td>\n",
       "      <td>0</td>\n",
       "      <td>0</td>\n",
       "      <td>0</td>\n",
       "    </tr>\n",
       "    <tr>\n",
       "      <th>846</th>\n",
       "      <td>3941-XTSKM</td>\n",
       "      <td>0</td>\n",
       "      <td>42</td>\n",
       "      <td>No phone service</td>\n",
       "      <td>45.10</td>\n",
       "      <td>2049.05</td>\n",
       "      <td>One year</td>\n",
       "      <td>DSL</td>\n",
       "      <td>Credit card (automatic)</td>\n",
       "      <td>1</td>\n",
       "      <td>1</td>\n",
       "      <td>1</td>\n",
       "      <td>0</td>\n",
       "      <td>1</td>\n",
       "      <td>1</td>\n",
       "      <td>0</td>\n",
       "      <td>0</td>\n",
       "      <td>1</td>\n",
       "      <td>1</td>\n",
       "      <td>0</td>\n",
       "      <td>0</td>\n",
       "      <td>1</td>\n",
       "      <td>0</td>\n",
       "      <td>0</td>\n",
       "      <td>1</td>\n",
       "      <td>0</td>\n",
       "      <td>1</td>\n",
       "      <td>0</td>\n",
       "      <td>0</td>\n",
       "      <td>0</td>\n",
       "      <td>1</td>\n",
       "      <td>0</td>\n",
       "      <td>0</td>\n",
       "    </tr>\n",
       "    <tr>\n",
       "      <th>6014</th>\n",
       "      <td>7717-BICXI</td>\n",
       "      <td>0</td>\n",
       "      <td>60</td>\n",
       "      <td>No</td>\n",
       "      <td>20.55</td>\n",
       "      <td>1205.05</td>\n",
       "      <td>Two year</td>\n",
       "      <td>None</td>\n",
       "      <td>Mailed check</td>\n",
       "      <td>1</td>\n",
       "      <td>1</td>\n",
       "      <td>1</td>\n",
       "      <td>0</td>\n",
       "      <td>0</td>\n",
       "      <td>0</td>\n",
       "      <td>0</td>\n",
       "      <td>0</td>\n",
       "      <td>0</td>\n",
       "      <td>0</td>\n",
       "      <td>0</td>\n",
       "      <td>1</td>\n",
       "      <td>0</td>\n",
       "      <td>0</td>\n",
       "      <td>0</td>\n",
       "      <td>0</td>\n",
       "      <td>1</td>\n",
       "      <td>0</td>\n",
       "      <td>0</td>\n",
       "      <td>1</td>\n",
       "      <td>0</td>\n",
       "      <td>0</td>\n",
       "      <td>0</td>\n",
       "      <td>1</td>\n",
       "    </tr>\n",
       "    <tr>\n",
       "      <th>6667</th>\n",
       "      <td>2692-PFYTJ</td>\n",
       "      <td>0</td>\n",
       "      <td>1</td>\n",
       "      <td>Yes</td>\n",
       "      <td>25.75</td>\n",
       "      <td>25.75</td>\n",
       "      <td>Month-to-month</td>\n",
       "      <td>None</td>\n",
       "      <td>Mailed check</td>\n",
       "      <td>0</td>\n",
       "      <td>0</td>\n",
       "      <td>0</td>\n",
       "      <td>0</td>\n",
       "      <td>0</td>\n",
       "      <td>0</td>\n",
       "      <td>0</td>\n",
       "      <td>0</td>\n",
       "      <td>0</td>\n",
       "      <td>1</td>\n",
       "      <td>0</td>\n",
       "      <td>0</td>\n",
       "      <td>0</td>\n",
       "      <td>1</td>\n",
       "      <td>1</td>\n",
       "      <td>0</td>\n",
       "      <td>0</td>\n",
       "      <td>0</td>\n",
       "      <td>0</td>\n",
       "      <td>1</td>\n",
       "      <td>0</td>\n",
       "      <td>0</td>\n",
       "      <td>0</td>\n",
       "      <td>1</td>\n",
       "    </tr>\n",
       "  </tbody>\n",
       "</table>\n",
       "</div>"
      ],
      "text/plain": [
       "     customer_id  senior_citizen  tenure    multiple_lines  monthly_charges  \\\n",
       "1196  9968-FFVVH               0      63               Yes            68.80   \n",
       "4239  3956-CJUST               1      23                No            75.40   \n",
       "846   3941-XTSKM               0      42  No phone service            45.10   \n",
       "6014  7717-BICXI               0      60                No            20.55   \n",
       "6667  2692-PFYTJ               0       1               Yes            25.75   \n",
       "\n",
       "      total_charges   contract_type internet_service_type  \\\n",
       "1196        4111.35        One year                   DSL   \n",
       "4239        1643.55  Month-to-month           Fiber optic   \n",
       "846         2049.05        One year                   DSL   \n",
       "6014        1205.05        Two year                  None   \n",
       "6667          25.75  Month-to-month                  None   \n",
       "\n",
       "                   payment_type  is_male  has_partner  has_dependents  \\\n",
       "1196  Bank transfer (automatic)        1            0               0   \n",
       "4239  Bank transfer (automatic)        0            0               0   \n",
       "846     Credit card (automatic)        1            1               1   \n",
       "6014               Mailed check        1            1               1   \n",
       "6667               Mailed check        0            0               0   \n",
       "\n",
       "      online_security  online_backup  device_protection  tech_support  \\\n",
       "1196                1              1                  1             1   \n",
       "4239                1              0                  0             0   \n",
       "846                 0              1                  1             0   \n",
       "6014                0              0                  0             0   \n",
       "6667                0              0                  0             0   \n",
       "\n",
       "      streaming_tv  streaming_movies  paperless_billing  churn  one_line  \\\n",
       "1196             0                 0                  0      0         0   \n",
       "4239             0                 0                  1      0         1   \n",
       "846              0                 1                  1      0         0   \n",
       "6014             0                 0                  0      0         1   \n",
       "6667             0                 0                  1      0         0   \n",
       "\n",
       "      no_phone_service  has_multiple_lines  month_to_month_contract  \\\n",
       "1196                 0                   1                        0   \n",
       "4239                 0                   0                        1   \n",
       "846                  1                   0                        0   \n",
       "6014                 0                   0                        0   \n",
       "6667                 0                   1                        1   \n",
       "\n",
       "      one_year_contract  two_year_contract  dsl_internet  \\\n",
       "1196                  1                  0             1   \n",
       "4239                  0                  0             0   \n",
       "846                   1                  0             1   \n",
       "6014                  0                  1             0   \n",
       "6667                  0                  0             0   \n",
       "\n",
       "      fiber_optic_internet  no_internet_service  \\\n",
       "1196                     0                    0   \n",
       "4239                     1                    0   \n",
       "846                      0                    0   \n",
       "6014                     0                    1   \n",
       "6667                     0                    1   \n",
       "\n",
       "      bank_transfer_payment_automatic  credit_card_payment_automatic  \\\n",
       "1196                                1                              0   \n",
       "4239                                1                              0   \n",
       "846                                 0                              1   \n",
       "6014                                0                              0   \n",
       "6667                                0                              0   \n",
       "\n",
       "      electronic_check_payment  mailed_check_payment  \n",
       "1196                         0                     0  \n",
       "4239                         0                     0  \n",
       "846                          0                     0  \n",
       "6014                         0                     1  \n",
       "6667                         0                     1  "
      ]
     },
     "execution_count": 23,
     "metadata": {},
     "output_type": "execute_result"
    }
   ],
   "source": [
    "train, validate, test = prepare.prep_telco_data(df)\n",
    "train.head()"
   ]
  },
  {
   "cell_type": "markdown",
   "id": "f1e4065a",
   "metadata": {},
   "source": [
    "**Steps taken to prepare the data:**\n",
    "\n",
    "- Checked column names, data types, dataframe shape, null values, statistical information, and value counts\n",
    "\n",
    "- Changed data type for total charges to float\n",
    "\n",
    "- Dropped rows for customers with less than a month of service therefore no opportunity to churn\n",
    "\n",
    "- Replaced all instances of 'No internet service' as that information is duplicated in another column\n",
    "\n",
    "- Created dummy variables for columns with object data type\n",
    "\n",
    "- Dropped columns that were duplicated by creating dummy variables or unnecessary \n",
    "\n",
    "- Used histograms to check out distribution of numerical columns\n",
    "\n",
    "- Created functions to clean and split the data"
   ]
  },
  {
   "cell_type": "markdown",
   "id": "fb177455",
   "metadata": {},
   "source": [
    "***"
   ]
  },
  {
   "cell_type": "markdown",
   "id": "729f8f35",
   "metadata": {},
   "source": [
    "# Exploration"
   ]
  },
  {
   "cell_type": "code",
   "execution_count": null,
   "id": "b109629e",
   "metadata": {
    "scrolled": true
   },
   "outputs": [],
   "source": [
    "train.corr()['churn'].sort_values().plot(kind='bar')"
   ]
  },
  {
   "cell_type": "markdown",
   "id": "a965c90b",
   "metadata": {},
   "source": [
    "## 1. Do customers with month-to-month contracts churn more than other contract types?"
   ]
  },
  {
   "cell_type": "code",
   "execution_count": null,
   "id": "85202d73",
   "metadata": {},
   "outputs": [],
   "source": [
    "# plot visualization of number of customers churned/not churned by contract type\n",
    "plt.figure(figsize=(10,8))\n",
    "sns.countplot(x='contract_type', hue='churn', palette='deep', data=train)\n",
    "plt.title('Month-to-Month Customers Churn At Higher Rates', fontsize=18)\n",
    "plt.legend(labels=['Has Not Churned','Has Churned'])\n",
    "plt.xlabel('Contract Type')\n",
    "plt.ylabel('Number of Customers')"
   ]
  },
  {
   "cell_type": "markdown",
   "id": "c5f6f81c",
   "metadata": {},
   "source": [
    "## Month-to-month customers churn at almost 5x the rate of those with contracts"
   ]
  },
  {
   "cell_type": "markdown",
   "id": "7960e2ce",
   "metadata": {},
   "source": [
    "***"
   ]
  },
  {
   "cell_type": "markdown",
   "id": "40423c25",
   "metadata": {},
   "source": [
    "## 2. Is there a tenure length where customers are more likely to churn?"
   ]
  },
  {
   "cell_type": "code",
   "execution_count": null,
   "id": "be11a0f8",
   "metadata": {},
   "outputs": [],
   "source": [
    "# plot visualization of relationship of amount of customers churned across different lengths of tenure\n",
    "sns.catplot(x='churn', y='tenure', \n",
    "            kind='swarm', hue='contract_type', \n",
    "            palette='deep', size=8, aspect=1,\n",
    "            data=train[train.churn==1])\n",
    "\n",
    "plt.title('Many Customers Churn Within A Year Of Starting Telco Services', fontsize=18)\n",
    "plt.xlabel('Has Churned')\n",
    "plt.ylabel('Months of Tenure')\n",
    "plt.xticks([1], ['Has Churned'])\n",
    "plt.axhline(y=12)"
   ]
  },
  {
   "cell_type": "markdown",
   "id": "e86340f2",
   "metadata": {},
   "source": [
    "## The largest portion of customers who churn do so within the first 6 months"
   ]
  },
  {
   "cell_type": "markdown",
   "id": "cec3b416",
   "metadata": {},
   "source": [
    "***"
   ]
  },
  {
   "cell_type": "markdown",
   "id": "16f58a57",
   "metadata": {},
   "source": [
    "## 3. Is a specific internet service type associated with higher churn rates?"
   ]
  },
  {
   "cell_type": "code",
   "execution_count": null,
   "id": "1c991379",
   "metadata": {
    "scrolled": false
   },
   "outputs": [],
   "source": [
    "# plot visualization of number of customers churned/not churned by internet service type\n",
    "plt.figure(figsize=(10,8))\n",
    "sns.countplot(x='internet_service_type', hue='churn', palette='deep', data=train)\n",
    "plt.title('Fiber Optic Customers Are More Likely To Churn', fontsize=18)\n",
    "plt.legend(labels=['Has Not Churned','Has Churned'])\n",
    "plt.xlabel('Internet Service Type')\n",
    "plt.ylabel('Number of Customers')"
   ]
  },
  {
   "cell_type": "markdown",
   "id": "45c2fc96",
   "metadata": {},
   "source": [
    "**Hypothesis testing to see if this is statistically significant:**\n",
    "\n",
    "**Null Hypothesis: Fiber optic customers are just as likely or less likely to churn than those with DSL or no internet.**\n",
    "\n",
    "**Null Hypothesis: Fiber optic customers are more likely to churn than those with DSL or no internet.**"
   ]
  },
  {
   "cell_type": "code",
   "execution_count": null,
   "id": "c08d33aa",
   "metadata": {},
   "outputs": [],
   "source": [
    "# conduct hypothesis testing to evaluate the relationship between churn and internet service type\n",
    "observed = pd.crosstab(train.churn, train.internet_service_type)\n",
    "chi2, p, degf, expected = stats.chi2_contingency(observed)\n",
    "\n",
    "if p < alpha:\n",
    "      print('We reject the null hypothesis')\n",
    "else:\n",
    "    print('We fail to reject the null hypothesis')"
   ]
  },
  {
   "cell_type": "markdown",
   "id": "533bd967",
   "metadata": {},
   "source": [
    "## Both the chart and test show that fiber optic customers are more likely to churn."
   ]
  },
  {
   "cell_type": "markdown",
   "id": "5191500c",
   "metadata": {},
   "source": [
    "***"
   ]
  },
  {
   "cell_type": "markdown",
   "id": "d77a4630",
   "metadata": {},
   "source": [
    "## 4. Is it higher monthly charges that are causing churn?"
   ]
  },
  {
   "cell_type": "code",
   "execution_count": null,
   "id": "2311bf80",
   "metadata": {},
   "outputs": [],
   "source": [
    "# plot visualization of distribution of monthly charges for those who have churned vs those who have not churned\n",
    "plt.figure(figsize=(10,8))\n",
    "sns.boxplot(x=train.churn, y=train.monthly_charges, data=train , palette='deep')\n",
    "plt.title('Avg Monthly Charges Are Higher For Customers Who Churn', fontsize=18)\n",
    "plt.xlabel('Has Churned')\n",
    "plt.ylabel('Monthly Charges ($)')\n",
    "plt.xticks([0, 1], ['No','Yes'])"
   ]
  },
  {
   "cell_type": "markdown",
   "id": "7352c24d",
   "metadata": {},
   "source": [
    "**Hypothesis testing using one-sample, one-tail t-test to see if this is statistically significant:**\n",
    "\n",
    "Because sample size is >500, the central limit theorum tells us that we can assume normal distribution\n",
    "\n",
    "**Null Hypothesis: Monthly charges for customers who have churned are equal or less than those for customers who have not churned**\n",
    "\n",
    "**Alternate Hypothesis: Monthly charges for customers who have churned are more than those for customers who have not churned**"
   ]
  },
  {
   "cell_type": "code",
   "execution_count": null,
   "id": "da4c8282",
   "metadata": {},
   "outputs": [],
   "source": [
    "# conduct hypothesis testing to evaluate the relationship between churn and monthly charges\n",
    "alpha = 0.05\n",
    "churn_subset = train[train.churn==1].monthly_charges\n",
    "mean_charges = train.monthly_charges.mean()\n",
    "\n",
    "t, p = stats.ttest_1samp(churn_subset, mean_charges)\n",
    "\n",
    "if p/2 > alpha:\n",
    "    print('We fail to reject the null hypothesis')\n",
    "elif t < 0:\n",
    "    print('We fail to reject the null hypothesis')\n",
    "else:\n",
    "    print('We reject the null hypothesis')"
   ]
  },
  {
   "cell_type": "markdown",
   "id": "cd0aff4a",
   "metadata": {},
   "source": [
    "## Both the chart and test show that churn is associated with higher monthly charges."
   ]
  },
  {
   "cell_type": "markdown",
   "id": "badf1225",
   "metadata": {},
   "source": [
    "***"
   ]
  },
  {
   "cell_type": "markdown",
   "id": "55e406aa",
   "metadata": {},
   "source": [
    "## Exploration Summary\n",
    "\n",
    "\n",
    "**- Month-to-month contracts and having fiber optic internet service are both correlated with higher rates of churn**\n",
    "\n",
    "**- Higher monthly charges are also seen with customers who have churned**\n",
    "\n",
    "**- Key takeaway is that customers are unhappy with the higher prices associated with fiber optic service and/or the quality of fiber optic service**\n",
    "\n",
    "**- Going forward these features will be key to identifying customers with an increased risk of churning in order to target them with incentivized offers for their loyalty**\n",
    "\n",
    "**- Features that will be used in modeling because of their correlation with churn are:** \n",
    "\n",
    "*tenure, monthly_charges, paperless_billing, churn, month_to_month_contract, one_year_contract, two_year_contract, dsl_internet, fiber_optic_internet, no_internet_service*\n",
    "       \n",
    "**- Features that will not be used in modeling because of their limited correlation with churn or because already represented with dummy variables are:** \n",
    "\n",
    "*senior_citizen, multiple_lines, total_charges, contract_type, internet_service_type, payment_type, is_male, has_partner, has_dependents, online_security, online_backup, device_protection, tech_support, streaming_tv, streaming_movies, one_line, no_phone_service, has_multiple_lines, bank_transfer_payment_automatic, credit_card_payment_automatic, electronic_check_payment, mailed_check_payment*"
   ]
  },
  {
   "cell_type": "markdown",
   "id": "d149eb39",
   "metadata": {},
   "source": [
    "2 statistical tests (state null/alternate hypothesis) include vizes of the variable interactions"
   ]
  },
  {
   "cell_type": "markdown",
   "id": "ba6d26e0",
   "metadata": {},
   "source": [
    "correlation: 2 continuous variables, normally distributed, testing for LINEAR correlation only (H_0: Not linearly dependent) - independent t-test: 1 continuous, somewhat normally distributed variable, one boolean variable, equal variance, independent (H_0: population mean of each group is equal) - chi-square test: 2 discrete variables. (H_0: the 2 variables are independent of each other). (other tests may be used)"
   ]
  },
  {
   "cell_type": "markdown",
   "id": "d2d61aac",
   "metadata": {},
   "source": [
    "## Look at user defined functions to see which might be useful"
   ]
  },
  {
   "cell_type": "markdown",
   "id": "e0b008ae",
   "metadata": {},
   "source": [
    "***"
   ]
  },
  {
   "cell_type": "markdown",
   "id": "eac32f95",
   "metadata": {},
   "source": [
    "# Modeling"
   ]
  },
  {
   "cell_type": "code",
   "execution_count": null,
   "id": "140b61eb",
   "metadata": {
    "scrolled": true
   },
   "outputs": [],
   "source": [
    "# checking most common value for churn\n",
    "train.churn.value_counts()"
   ]
  },
  {
   "cell_type": "code",
   "execution_count": null,
   "id": "b3584bfe",
   "metadata": {},
   "outputs": [],
   "source": [
    "# creating a baseline to evaluate models. Baseline set to most common value, 0 (did not churn)\n",
    "train['baseline'] = 0 \n",
    "train.head()"
   ]
  },
  {
   "cell_type": "code",
   "execution_count": null,
   "id": "3371d841",
   "metadata": {},
   "outputs": [],
   "source": [
    "# calculate baseline accuracy\n",
    "baseline_accuracy = round((train.baseline == train.churn).mean(), 2)\n",
    "baseline_accuracy"
   ]
  },
  {
   "cell_type": "markdown",
   "id": "23676e8e",
   "metadata": {},
   "source": [
    "**Baseline accuracy is 73% which is what a model must beat to provide value**"
   ]
  },
  {
   "cell_type": "code",
   "execution_count": null,
   "id": "eb9f623e",
   "metadata": {},
   "outputs": [],
   "source": [
    "# drop baseline column from train dataset\n",
    "train = train.drop(columns='baseline')\n",
    "train.head()"
   ]
  },
  {
   "cell_type": "code",
   "execution_count": 24,
   "id": "a0e8c92d",
   "metadata": {},
   "outputs": [],
   "source": [
    "# drop features determined in the explore phase to not have much correlation with churn\n",
    "cols_to_drop = ['customer_id','senior_citizen', 'multiple_lines', 'total_charges', 'contract_type', 'internet_service_type', 'payment_type', 'is_male', 'has_partner', 'has_dependents', 'online_security', 'online_backup', 'device_protection', 'tech_support', 'streaming_tv', 'streaming_movies', 'one_line', 'no_phone_service', 'has_multiple_lines', 'bank_transfer_payment_automatic', 'credit_card_payment_automatic', 'electronic_check_payment', 'mailed_check_payment', 'churn']\n",
    "\n",
    "# create X and y version of train, validate, and test\n",
    "X_train = train.drop(columns=cols_to_drop)\n",
    "y_train = train.churn\n",
    "\n",
    "X_validate = validate.drop(columns=cols_to_drop)\n",
    "y_validate = validate.churn\n",
    "\n",
    "X_test = test.drop(columns=cols_to_drop)\n",
    "y_test = test.churn"
   ]
  },
  {
   "cell_type": "code",
   "execution_count": 25,
   "id": "4b0b00c8",
   "metadata": {},
   "outputs": [
    {
     "data": {
      "text/plain": [
       "((3937, 9), (1688, 9), (1407, 9))"
      ]
     },
     "execution_count": 25,
     "metadata": {},
     "output_type": "execute_result"
    }
   ],
   "source": [
    "# check shape of each to confirm changes were made\n",
    "X_train.shape, X_validate.shape, X_test.shape"
   ]
  },
  {
   "cell_type": "code",
   "execution_count": 26,
   "id": "522062d1",
   "metadata": {},
   "outputs": [
    {
     "data": {
      "text/html": [
       "<div>\n",
       "<style scoped>\n",
       "    .dataframe tbody tr th:only-of-type {\n",
       "        vertical-align: middle;\n",
       "    }\n",
       "\n",
       "    .dataframe tbody tr th {\n",
       "        vertical-align: top;\n",
       "    }\n",
       "\n",
       "    .dataframe thead th {\n",
       "        text-align: right;\n",
       "    }\n",
       "</style>\n",
       "<table border=\"1\" class=\"dataframe\">\n",
       "  <thead>\n",
       "    <tr style=\"text-align: right;\">\n",
       "      <th></th>\n",
       "      <th>tenure</th>\n",
       "      <th>monthly_charges</th>\n",
       "      <th>paperless_billing</th>\n",
       "      <th>month_to_month_contract</th>\n",
       "      <th>one_year_contract</th>\n",
       "      <th>two_year_contract</th>\n",
       "      <th>dsl_internet</th>\n",
       "      <th>fiber_optic_internet</th>\n",
       "      <th>no_internet_service</th>\n",
       "    </tr>\n",
       "  </thead>\n",
       "  <tbody>\n",
       "    <tr>\n",
       "      <th>1196</th>\n",
       "      <td>63</td>\n",
       "      <td>68.80</td>\n",
       "      <td>0</td>\n",
       "      <td>0</td>\n",
       "      <td>1</td>\n",
       "      <td>0</td>\n",
       "      <td>1</td>\n",
       "      <td>0</td>\n",
       "      <td>0</td>\n",
       "    </tr>\n",
       "    <tr>\n",
       "      <th>4239</th>\n",
       "      <td>23</td>\n",
       "      <td>75.40</td>\n",
       "      <td>1</td>\n",
       "      <td>1</td>\n",
       "      <td>0</td>\n",
       "      <td>0</td>\n",
       "      <td>0</td>\n",
       "      <td>1</td>\n",
       "      <td>0</td>\n",
       "    </tr>\n",
       "    <tr>\n",
       "      <th>846</th>\n",
       "      <td>42</td>\n",
       "      <td>45.10</td>\n",
       "      <td>1</td>\n",
       "      <td>0</td>\n",
       "      <td>1</td>\n",
       "      <td>0</td>\n",
       "      <td>1</td>\n",
       "      <td>0</td>\n",
       "      <td>0</td>\n",
       "    </tr>\n",
       "    <tr>\n",
       "      <th>6014</th>\n",
       "      <td>60</td>\n",
       "      <td>20.55</td>\n",
       "      <td>0</td>\n",
       "      <td>0</td>\n",
       "      <td>0</td>\n",
       "      <td>1</td>\n",
       "      <td>0</td>\n",
       "      <td>0</td>\n",
       "      <td>1</td>\n",
       "    </tr>\n",
       "    <tr>\n",
       "      <th>6667</th>\n",
       "      <td>1</td>\n",
       "      <td>25.75</td>\n",
       "      <td>1</td>\n",
       "      <td>1</td>\n",
       "      <td>0</td>\n",
       "      <td>0</td>\n",
       "      <td>0</td>\n",
       "      <td>0</td>\n",
       "      <td>1</td>\n",
       "    </tr>\n",
       "  </tbody>\n",
       "</table>\n",
       "</div>"
      ],
      "text/plain": [
       "      tenure  monthly_charges  paperless_billing  month_to_month_contract  \\\n",
       "1196      63            68.80                  0                        0   \n",
       "4239      23            75.40                  1                        1   \n",
       "846       42            45.10                  1                        0   \n",
       "6014      60            20.55                  0                        0   \n",
       "6667       1            25.75                  1                        1   \n",
       "\n",
       "      one_year_contract  two_year_contract  dsl_internet  \\\n",
       "1196                  1                  0             1   \n",
       "4239                  0                  0             0   \n",
       "846                   1                  0             1   \n",
       "6014                  0                  1             0   \n",
       "6667                  0                  0             0   \n",
       "\n",
       "      fiber_optic_internet  no_internet_service  \n",
       "1196                     0                    0  \n",
       "4239                     1                    0  \n",
       "846                      0                    0  \n",
       "6014                     0                    1  \n",
       "6667                     0                    1  "
      ]
     },
     "execution_count": 26,
     "metadata": {},
     "output_type": "execute_result"
    }
   ],
   "source": [
    "# check first few rows of X_train\n",
    "X_train.head()"
   ]
  },
  {
   "cell_type": "code",
   "execution_count": null,
   "id": "34fef54e",
   "metadata": {},
   "outputs": [],
   "source": [
    "# Evaluate Random Forest models on train & validate set by looping through different values for max_depth and min_samples_leaf hyperparameters\n",
    "\n",
    "# create empty list for which to append metrics from each loop\n",
    "metrics = []\n",
    "# set value for range\n",
    "max_value = 21\n",
    "\n",
    "# create loop for range 1-20\n",
    "for i in range(1, max_value):\n",
    "    # set depth & n_samples to value for current loop\n",
    "    depth = i\n",
    "    n_samples = i\n",
    "    \n",
    "    # define the model setting hyperparameters to values for current loop\n",
    "    forest = RandomForestClassifier(max_depth=depth, min_samples_leaf=n_samples, random_state=369)\n",
    "\n",
    "    # fit the model on train\n",
    "    forest = forest.fit(X_train, y_train)\n",
    "\n",
    "    # use the model and evaluate performance on train\n",
    "    in_sample_accuracy = forest.score(X_train, y_train)\n",
    "    # use the model and evaluate performance on validate\n",
    "    out_of_sample_accuracy = forest.score(X_validate, y_validate)\n",
    "    \n",
    "    # create output of current loop's hyperparameters and accuracy to append to metrics\n",
    "    output = {\n",
    "        \"min_samples_per_leaf\": n_samples,\n",
    "        \"max_depth\": depth,\n",
    "        \"train_accuracy\": in_sample_accuracy,\n",
    "        \"validate_accuracy\": out_of_sample_accuracy\n",
    "    }\n",
    "    \n",
    "    metrics.append(output)\n",
    "\n",
    "# convert metrics list to a dataframe for easy reading   \n",
    "df = pd.DataFrame(metrics)\n",
    "# add column to assess the difference between train & validate accuracy\n",
    "df[\"difference\"] = df.train_accuracy - df.validate_accuracy\n",
    "df"
   ]
  },
  {
   "cell_type": "code",
   "execution_count": 27,
   "id": "ece4f7c6",
   "metadata": {},
   "outputs": [
    {
     "name": "stdout",
     "output_type": "stream",
     "text": [
      "train_accuracy: 0.8166116332232665\n",
      "validate_accuracy: 0.7968009478672986\n"
     ]
    }
   ],
   "source": [
    "# Evaluate Random Forest model on train & validate set\n",
    "\n",
    "# define the model setting hyperparameters to values for current loop\n",
    "forest = RandomForestClassifier(max_depth=8, min_samples_leaf=8, random_state=369)\n",
    "\n",
    "# fit the model on train\n",
    "forest = forest.fit(X_train, y_train)\n",
    "\n",
    "# use the model and evaluate performance on train\n",
    "train_accuracy = forest.score(X_train, y_train)\n",
    "# use the model and evaluate performance on validate\n",
    "validate_accuracy = forest.score(X_validate, y_validate)\n",
    "\n",
    "print(f'train_accuracy: {train_accuracy}')\n",
    "print(f'validate_accuracy: {validate_accuracy}')"
   ]
  },
  {
   "cell_type": "code",
   "execution_count": null,
   "id": "676c027a",
   "metadata": {},
   "outputs": [],
   "source": [
    "# Evaluate KNearest Neighbors models on train & validate set by looping through different values for k hyperparameter\n",
    "\n",
    "# create empty list for which to append metrics from each loop\n",
    "metrics = []\n",
    "\n",
    "# create loop for range 1-20\n",
    "for k in range(1, 21):\n",
    "            \n",
    "    # define the model setting hyperparameters to values for current loop\n",
    "    knn = KNeighborsClassifier(n_neighbors=k)\n",
    "    \n",
    "    # fit the model on train\n",
    "    knn.fit(X_train, y_train)\n",
    "    \n",
    "    # use the model and evaluate performance on train\n",
    "    train_accuracy = knn.score(X_train, y_train)\n",
    "    # use the model and evaluate performance on validate\n",
    "    validate_accuracy = knn.score(X_validate, y_validate)\n",
    "    \n",
    "    # create output of current loop's hyperparameters and accuracy to append to metrics\n",
    "    output = {\n",
    "        \"k\": k,\n",
    "        \"train_accuracy\": train_accuracy,\n",
    "        \"validate_accuracy\": validate_accuracy\n",
    "    }\n",
    "    \n",
    "    metrics.append(output)\n",
    "\n",
    "# convert metrics list to a dataframe for easy reading\n",
    "df = pd.DataFrame(metrics)\n",
    "# add column to assess the difference between train & validate accuracy\n",
    "df['difference'] = df.train_accuracy - df.validate_accuracy\n",
    "df"
   ]
  },
  {
   "cell_type": "code",
   "execution_count": null,
   "id": "8d414193",
   "metadata": {},
   "outputs": [],
   "source": [
    "# Evaluate Logistic Regression models on train & validate set by looping through different values for c hyperparameter\n",
    "\n",
    "# create empty list for which to append metrics from each loop\n",
    "metrics = []\n",
    "\n",
    "# create loop for values in list\n",
    "for c in [.001, .005, .01, .05, .1, .5, 1, 5, 10, 50, 100, 500, 1000]:\n",
    "            \n",
    "    # define the model setting hyperparameters to values for current loop\n",
    "    logit = LogisticRegression(C=c)\n",
    "    \n",
    "    # fit the model on train\n",
    "    logit.fit(X_train, y_train)\n",
    "    \n",
    "    # use the model and evaluate performance on train\n",
    "    train_accuracy = logit.score(X_train, y_train)\n",
    "    # use the model and evaluate performance on validate\n",
    "    validate_accuracy = logit.score(X_validate, y_validate)\n",
    "    \n",
    "    # create output of current loop's hyperparameters and accuracy to append to metrics\n",
    "    output = {\n",
    "        'C': c,\n",
    "        'train_accuracy': train_accuracy,\n",
    "        'validate_accuracy': validate_accuracy\n",
    "    }\n",
    "    \n",
    "    metrics.append(output)\n",
    "\n",
    "# convert metrics list to a dataframe for easy reading\n",
    "df = pd.DataFrame(metrics)\n",
    "# add column to assess the difference between train & validate accuracy\n",
    "df['difference'] = df.train_accuracy - df.validate_accuracy\n",
    "df"
   ]
  },
  {
   "cell_type": "markdown",
   "id": "3e95d3ed",
   "metadata": {},
   "source": [
    "**- The random forest models proved to be the most accurate for this dataset although larger values of c for logistic regression produced the same results.**\n",
    "\n",
    "**- The random forest model selected for use on the test dataset is one with the max_depth and min_samples_leaf set to 8. This was chosen for its high accuracy but with reduced likelihood of overfitting.**"
   ]
  },
  {
   "cell_type": "code",
   "execution_count": null,
   "id": "3cfacb4f",
   "metadata": {},
   "outputs": [],
   "source": [
    "# define the model selected for test dataset\n",
    "forest_test_model = RandomForestClassifier(max_depth=8, min_samples_leaf=8, random_state=369)\n",
    "# use the model and evaluate performance on test\n",
    "print(f'Test accuracy = {forest.score(X_test, y_test)}')"
   ]
  },
  {
   "cell_type": "markdown",
   "id": "4837365c",
   "metadata": {},
   "source": [
    "**Test accuracy for this model is 100%**"
   ]
  },
  {
   "cell_type": "code",
   "execution_count": 33,
   "id": "53fe1eb1",
   "metadata": {},
   "outputs": [
    {
     "data": {
      "text/plain": [
       "(1407, 1)"
      ]
     },
     "execution_count": 33,
     "metadata": {},
     "output_type": "execute_result"
    }
   ],
   "source": [
    "y_pred = pd.DataFrame(forest.predict(X_test))\n",
    "y_pred.shape"
   ]
  },
  {
   "cell_type": "code",
   "execution_count": 34,
   "id": "3c2e08c2",
   "metadata": {},
   "outputs": [
    {
     "data": {
      "text/plain": [
       "(1407, 2)"
      ]
     },
     "execution_count": 34,
     "metadata": {},
     "output_type": "execute_result"
    }
   ],
   "source": [
    "y_pred_proba = pd.DataFrame(forest.predict_proba(X_test))\n",
    "y_pred_proba.shape"
   ]
  },
  {
   "cell_type": "code",
   "execution_count": 35,
   "id": "5ff4ccae",
   "metadata": {},
   "outputs": [
    {
     "data": {
      "text/plain": [
       "(1407, 1)"
      ]
     },
     "execution_count": 35,
     "metadata": {},
     "output_type": "execute_result"
    }
   ],
   "source": [
    "customer_ids = pd.DataFrame(test.customer_id)\n",
    "customer_ids.shape"
   ]
  },
  {
   "cell_type": "code",
   "execution_count": 36,
   "id": "8895828a",
   "metadata": {},
   "outputs": [
    {
     "name": "stdout",
     "output_type": "stream",
     "text": [
      "<class 'pandas.core.frame.DataFrame'>\n",
      "<class 'pandas.core.frame.DataFrame'>\n",
      "<class 'pandas.core.frame.DataFrame'>\n"
     ]
    }
   ],
   "source": [
    "print(type(customer_ids))\n",
    "print(type(y_pred))\n",
    "print(type(y_pred_proba))"
   ]
  },
  {
   "cell_type": "code",
   "execution_count": 38,
   "id": "b63d3480",
   "metadata": {},
   "outputs": [
    {
     "data": {
      "text/html": [
       "<div>\n",
       "<style scoped>\n",
       "    .dataframe tbody tr th:only-of-type {\n",
       "        vertical-align: middle;\n",
       "    }\n",
       "\n",
       "    .dataframe tbody tr th {\n",
       "        vertical-align: top;\n",
       "    }\n",
       "\n",
       "    .dataframe thead th {\n",
       "        text-align: right;\n",
       "    }\n",
       "</style>\n",
       "<table border=\"1\" class=\"dataframe\">\n",
       "  <thead>\n",
       "    <tr style=\"text-align: right;\">\n",
       "      <th></th>\n",
       "      <th>customer_id</th>\n",
       "      <th>0</th>\n",
       "      <th>0</th>\n",
       "      <th>1</th>\n",
       "    </tr>\n",
       "  </thead>\n",
       "  <tbody>\n",
       "    <tr>\n",
       "      <th>0</th>\n",
       "      <td>0016-QLJIS</td>\n",
       "      <td>0.0</td>\n",
       "      <td>0.652289</td>\n",
       "      <td>0.347711</td>\n",
       "    </tr>\n",
       "    <tr>\n",
       "      <th>1</th>\n",
       "      <td>NaN</td>\n",
       "      <td>1.0</td>\n",
       "      <td>0.243873</td>\n",
       "      <td>0.756127</td>\n",
       "    </tr>\n",
       "    <tr>\n",
       "      <th>2</th>\n",
       "      <td>0019-GFNTW</td>\n",
       "      <td>0.0</td>\n",
       "      <td>0.920271</td>\n",
       "      <td>0.079729</td>\n",
       "    </tr>\n",
       "    <tr>\n",
       "      <th>3</th>\n",
       "      <td>NaN</td>\n",
       "      <td>1.0</td>\n",
       "      <td>0.451301</td>\n",
       "      <td>0.548699</td>\n",
       "    </tr>\n",
       "    <tr>\n",
       "      <th>4</th>\n",
       "      <td>NaN</td>\n",
       "      <td>0.0</td>\n",
       "      <td>0.835137</td>\n",
       "      <td>0.164863</td>\n",
       "    </tr>\n",
       "  </tbody>\n",
       "</table>\n",
       "</div>"
      ],
      "text/plain": [
       "  customer_id    0         0         1\n",
       "0  0016-QLJIS  0.0  0.652289  0.347711\n",
       "1         NaN  1.0  0.243873  0.756127\n",
       "2  0019-GFNTW  0.0  0.920271  0.079729\n",
       "3         NaN  1.0  0.451301  0.548699\n",
       "4         NaN  0.0  0.835137  0.164863"
      ]
     },
     "execution_count": 38,
     "metadata": {},
     "output_type": "execute_result"
    }
   ],
   "source": [
    "customer_prob_of_churn = pd.concat([customer_ids, y_pred, y_pred_proba], axis=1)\n",
    "customer_prob_of_churn.head()"
   ]
  },
  {
   "cell_type": "code",
   "execution_count": 40,
   "id": "249ae2e2",
   "metadata": {},
   "outputs": [],
   "source": [
    "customer_prob_of_churn.to_csv('customer_prob_of_churn.csv')"
   ]
  },
  {
   "cell_type": "markdown",
   "id": "bbf78e35",
   "metadata": {},
   "source": [
    "***"
   ]
  },
  {
   "cell_type": "markdown",
   "id": "a6a105de",
   "metadata": {},
   "source": [
    "# Conclusion\n",
    "\n",
    "\n",
    "## Summary\n",
    "\n",
    "Goals of this project were:\n",
    "\n",
    "- To identify drivers of customer churn and find a solution for increasing customer retention\n",
    "\n",
    "- To construct a model that accurately predicts which customers are most likely to churn to focus retention efforts\n",
    "\n",
    "We identified some of the main drivers of churn as:\n",
    "\n",
    "- Month-to-month contract\n",
    "\n",
    "- Fiber optic internet service\n",
    "\n",
    "- Higher monthly prices\n",
    "\n",
    "We built a model that is expected to perform with greater than 95% accuracy on unseen data which will help with targeted efforts to improve customer retention.\n",
    "\n",
    "\n",
    "## Recommendations\n",
    "\n",
    "- Reduce monthly price for fiber optic internet service \n",
    "\n",
    "- Send out quarterly customer satisfaction surveys for better insights\n",
    "\n",
    "\n",
    "## Next Steps\n",
    "\n",
    "- With more time and resources, would like to collect and explore customer satisfaction data"
   ]
  }
 ],
 "metadata": {
  "kernelspec": {
   "display_name": "Python 3",
   "language": "python",
   "name": "python3"
  },
  "language_info": {
   "codemirror_mode": {
    "name": "ipython",
    "version": 3
   },
   "file_extension": ".py",
   "mimetype": "text/x-python",
   "name": "python",
   "nbconvert_exporter": "python",
   "pygments_lexer": "ipython3",
   "version": "3.8.8"
  }
 },
 "nbformat": 4,
 "nbformat_minor": 5
}
