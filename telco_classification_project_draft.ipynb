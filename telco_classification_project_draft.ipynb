{
 "cells": [
  {
   "cell_type": "code",
   "execution_count": 167,
   "id": "7f55d57b",
   "metadata": {},
   "outputs": [],
   "source": [
    "# imports\n",
    "import pandas as pd\n",
    "import numpy as np\n",
    "import matplotlib.pyplot as plt\n",
    "import seaborn as sns\n",
    "from sklearn.model_selection import train_test_split\n",
    "from scipy import stats\n",
    "import env\n",
    "import acquire\n",
    "import os\n",
    "\n",
    "# turn off pink boxes for demo\n",
    "import warnings\n",
    "warnings.filterwarnings(\"ignore\")"
   ]
  },
  {
   "cell_type": "code",
   "execution_count": 27,
   "id": "ba52a0f3",
   "metadata": {},
   "outputs": [],
   "source": [
    "# change setting to show all columns\n",
    "pd.set_option('display.max_columns', None)"
   ]
  },
  {
   "cell_type": "markdown",
   "id": "44254dc2",
   "metadata": {},
   "source": [
    "# Telco Customer Churn"
   ]
  },
  {
   "cell_type": "markdown",
   "id": "53c3d600",
   "metadata": {},
   "source": [
    "Lori Ainslie, 11/29/21"
   ]
  },
  {
   "cell_type": "markdown",
   "id": "d59ae468",
   "metadata": {},
   "source": [
    "***"
   ]
  },
  {
   "cell_type": "markdown",
   "id": "498ef2ae",
   "metadata": {},
   "source": [
    "# Executive Summary\n",
    "\n",
    "## Project Goals\n",
    "\n",
    "- To identify drivers of customer churn and find a solution for increasing customer retention\n",
    "\n",
    "- To construct a model that accurately predicts which customers are most likely to churn to focus retention efforts\n",
    "\n",
    "## Project Description\n",
    "\n",
    "- Reducing churn is important to the company because lost customers means lost revenue. The cost of acquiring a new customer is much higher than maintaining a customer so this project will attempt to identify strategies that reduce customer churn. In the process, we are also looking for ways to improve customer satisfaction to increase the company's rate of growth."
   ]
  },
  {
   "cell_type": "markdown",
   "id": "c45ace52",
   "metadata": {},
   "source": [
    "***"
   ]
  },
  {
   "cell_type": "markdown",
   "id": "d3243e49",
   "metadata": {},
   "source": [
    "# Acquisition"
   ]
  },
  {
   "cell_type": "code",
   "execution_count": 178,
   "id": "4720b225",
   "metadata": {},
   "outputs": [],
   "source": [
    "# pull in telco data\n",
    "df = acquire.get_telco_data()"
   ]
  },
  {
   "cell_type": "code",
   "execution_count": 179,
   "id": "f2703674",
   "metadata": {
    "scrolled": true
   },
   "outputs": [
    {
     "data": {
      "text/html": [
       "<div>\n",
       "<style scoped>\n",
       "    .dataframe tbody tr th:only-of-type {\n",
       "        vertical-align: middle;\n",
       "    }\n",
       "\n",
       "    .dataframe tbody tr th {\n",
       "        vertical-align: top;\n",
       "    }\n",
       "\n",
       "    .dataframe thead th {\n",
       "        text-align: right;\n",
       "    }\n",
       "</style>\n",
       "<table border=\"1\" class=\"dataframe\">\n",
       "  <thead>\n",
       "    <tr style=\"text-align: right;\">\n",
       "      <th></th>\n",
       "      <th>payment_type_id</th>\n",
       "      <th>internet_service_type_id</th>\n",
       "      <th>contract_type_id</th>\n",
       "      <th>customer_id</th>\n",
       "      <th>gender</th>\n",
       "      <th>senior_citizen</th>\n",
       "      <th>partner</th>\n",
       "      <th>dependents</th>\n",
       "      <th>tenure</th>\n",
       "      <th>phone_service</th>\n",
       "      <th>multiple_lines</th>\n",
       "      <th>online_security</th>\n",
       "      <th>online_backup</th>\n",
       "      <th>device_protection</th>\n",
       "      <th>tech_support</th>\n",
       "      <th>streaming_tv</th>\n",
       "      <th>streaming_movies</th>\n",
       "      <th>paperless_billing</th>\n",
       "      <th>monthly_charges</th>\n",
       "      <th>total_charges</th>\n",
       "      <th>churn</th>\n",
       "      <th>contract_type</th>\n",
       "      <th>internet_service_type</th>\n",
       "      <th>payment_type</th>\n",
       "    </tr>\n",
       "  </thead>\n",
       "  <tbody>\n",
       "    <tr>\n",
       "      <th>0</th>\n",
       "      <td>2</td>\n",
       "      <td>1</td>\n",
       "      <td>3</td>\n",
       "      <td>0016-QLJIS</td>\n",
       "      <td>Female</td>\n",
       "      <td>0</td>\n",
       "      <td>Yes</td>\n",
       "      <td>Yes</td>\n",
       "      <td>65</td>\n",
       "      <td>Yes</td>\n",
       "      <td>Yes</td>\n",
       "      <td>Yes</td>\n",
       "      <td>Yes</td>\n",
       "      <td>Yes</td>\n",
       "      <td>Yes</td>\n",
       "      <td>Yes</td>\n",
       "      <td>Yes</td>\n",
       "      <td>Yes</td>\n",
       "      <td>90.45</td>\n",
       "      <td>5957.9</td>\n",
       "      <td>No</td>\n",
       "      <td>Two year</td>\n",
       "      <td>DSL</td>\n",
       "      <td>Mailed check</td>\n",
       "    </tr>\n",
       "    <tr>\n",
       "      <th>1</th>\n",
       "      <td>4</td>\n",
       "      <td>1</td>\n",
       "      <td>3</td>\n",
       "      <td>0017-DINOC</td>\n",
       "      <td>Male</td>\n",
       "      <td>0</td>\n",
       "      <td>No</td>\n",
       "      <td>No</td>\n",
       "      <td>54</td>\n",
       "      <td>No</td>\n",
       "      <td>No phone service</td>\n",
       "      <td>Yes</td>\n",
       "      <td>No</td>\n",
       "      <td>No</td>\n",
       "      <td>Yes</td>\n",
       "      <td>Yes</td>\n",
       "      <td>No</td>\n",
       "      <td>No</td>\n",
       "      <td>45.20</td>\n",
       "      <td>2460.55</td>\n",
       "      <td>No</td>\n",
       "      <td>Two year</td>\n",
       "      <td>DSL</td>\n",
       "      <td>Credit card (automatic)</td>\n",
       "    </tr>\n",
       "    <tr>\n",
       "      <th>2</th>\n",
       "      <td>3</td>\n",
       "      <td>1</td>\n",
       "      <td>3</td>\n",
       "      <td>0019-GFNTW</td>\n",
       "      <td>Female</td>\n",
       "      <td>0</td>\n",
       "      <td>No</td>\n",
       "      <td>No</td>\n",
       "      <td>56</td>\n",
       "      <td>No</td>\n",
       "      <td>No phone service</td>\n",
       "      <td>Yes</td>\n",
       "      <td>Yes</td>\n",
       "      <td>Yes</td>\n",
       "      <td>Yes</td>\n",
       "      <td>No</td>\n",
       "      <td>No</td>\n",
       "      <td>No</td>\n",
       "      <td>45.05</td>\n",
       "      <td>2560.1</td>\n",
       "      <td>No</td>\n",
       "      <td>Two year</td>\n",
       "      <td>DSL</td>\n",
       "      <td>Bank transfer (automatic)</td>\n",
       "    </tr>\n",
       "    <tr>\n",
       "      <th>3</th>\n",
       "      <td>4</td>\n",
       "      <td>1</td>\n",
       "      <td>3</td>\n",
       "      <td>0056-EPFBG</td>\n",
       "      <td>Male</td>\n",
       "      <td>0</td>\n",
       "      <td>Yes</td>\n",
       "      <td>Yes</td>\n",
       "      <td>20</td>\n",
       "      <td>No</td>\n",
       "      <td>No phone service</td>\n",
       "      <td>Yes</td>\n",
       "      <td>No</td>\n",
       "      <td>Yes</td>\n",
       "      <td>Yes</td>\n",
       "      <td>No</td>\n",
       "      <td>No</td>\n",
       "      <td>Yes</td>\n",
       "      <td>39.40</td>\n",
       "      <td>825.4</td>\n",
       "      <td>No</td>\n",
       "      <td>Two year</td>\n",
       "      <td>DSL</td>\n",
       "      <td>Credit card (automatic)</td>\n",
       "    </tr>\n",
       "    <tr>\n",
       "      <th>4</th>\n",
       "      <td>3</td>\n",
       "      <td>1</td>\n",
       "      <td>3</td>\n",
       "      <td>0078-XZMHT</td>\n",
       "      <td>Male</td>\n",
       "      <td>0</td>\n",
       "      <td>Yes</td>\n",
       "      <td>No</td>\n",
       "      <td>72</td>\n",
       "      <td>Yes</td>\n",
       "      <td>Yes</td>\n",
       "      <td>No</td>\n",
       "      <td>Yes</td>\n",
       "      <td>Yes</td>\n",
       "      <td>Yes</td>\n",
       "      <td>Yes</td>\n",
       "      <td>Yes</td>\n",
       "      <td>Yes</td>\n",
       "      <td>85.15</td>\n",
       "      <td>6316.2</td>\n",
       "      <td>No</td>\n",
       "      <td>Two year</td>\n",
       "      <td>DSL</td>\n",
       "      <td>Bank transfer (automatic)</td>\n",
       "    </tr>\n",
       "  </tbody>\n",
       "</table>\n",
       "</div>"
      ],
      "text/plain": [
       "   payment_type_id  internet_service_type_id  contract_type_id customer_id  \\\n",
       "0                2                         1                 3  0016-QLJIS   \n",
       "1                4                         1                 3  0017-DINOC   \n",
       "2                3                         1                 3  0019-GFNTW   \n",
       "3                4                         1                 3  0056-EPFBG   \n",
       "4                3                         1                 3  0078-XZMHT   \n",
       "\n",
       "   gender  senior_citizen partner dependents  tenure phone_service  \\\n",
       "0  Female               0     Yes        Yes      65           Yes   \n",
       "1    Male               0      No         No      54            No   \n",
       "2  Female               0      No         No      56            No   \n",
       "3    Male               0     Yes        Yes      20            No   \n",
       "4    Male               0     Yes         No      72           Yes   \n",
       "\n",
       "     multiple_lines online_security online_backup device_protection  \\\n",
       "0               Yes             Yes           Yes               Yes   \n",
       "1  No phone service             Yes            No                No   \n",
       "2  No phone service             Yes           Yes               Yes   \n",
       "3  No phone service             Yes            No               Yes   \n",
       "4               Yes              No           Yes               Yes   \n",
       "\n",
       "  tech_support streaming_tv streaming_movies paperless_billing  \\\n",
       "0          Yes          Yes              Yes               Yes   \n",
       "1          Yes          Yes               No                No   \n",
       "2          Yes           No               No                No   \n",
       "3          Yes           No               No               Yes   \n",
       "4          Yes          Yes              Yes               Yes   \n",
       "\n",
       "   monthly_charges total_charges churn contract_type internet_service_type  \\\n",
       "0            90.45        5957.9    No      Two year                   DSL   \n",
       "1            45.20       2460.55    No      Two year                   DSL   \n",
       "2            45.05        2560.1    No      Two year                   DSL   \n",
       "3            39.40         825.4    No      Two year                   DSL   \n",
       "4            85.15        6316.2    No      Two year                   DSL   \n",
       "\n",
       "                payment_type  \n",
       "0               Mailed check  \n",
       "1    Credit card (automatic)  \n",
       "2  Bank transfer (automatic)  \n",
       "3    Credit card (automatic)  \n",
       "4  Bank transfer (automatic)  "
      ]
     },
     "execution_count": 179,
     "metadata": {},
     "output_type": "execute_result"
    }
   ],
   "source": [
    "# pull in telco data & check out what first few rows look like\n",
    "df = get_telco_data()\n",
    "df.head()"
   ]
  },
  {
   "cell_type": "markdown",
   "id": "61fb67b3",
   "metadata": {},
   "source": [
    "***"
   ]
  },
  {
   "cell_type": "markdown",
   "id": "17d2e46b",
   "metadata": {},
   "source": [
    "# Preparation"
   ]
  },
  {
   "cell_type": "code",
   "execution_count": 30,
   "id": "ae89bf59",
   "metadata": {
    "scrolled": true
   },
   "outputs": [
    {
     "name": "stdout",
     "output_type": "stream",
     "text": [
      "<class 'pandas.core.frame.DataFrame'>\n",
      "Int64Index: 7043 entries, 0 to 7042\n",
      "Data columns (total 24 columns):\n",
      " #   Column                    Non-Null Count  Dtype  \n",
      "---  ------                    --------------  -----  \n",
      " 0   payment_type_id           7043 non-null   int64  \n",
      " 1   internet_service_type_id  7043 non-null   int64  \n",
      " 2   contract_type_id          7043 non-null   int64  \n",
      " 3   customer_id               7043 non-null   object \n",
      " 4   gender                    7043 non-null   object \n",
      " 5   senior_citizen            7043 non-null   int64  \n",
      " 6   partner                   7043 non-null   object \n",
      " 7   dependents                7043 non-null   object \n",
      " 8   tenure                    7043 non-null   int64  \n",
      " 9   phone_service             7043 non-null   object \n",
      " 10  multiple_lines            7043 non-null   object \n",
      " 11  online_security           7043 non-null   object \n",
      " 12  online_backup             7043 non-null   object \n",
      " 13  device_protection         7043 non-null   object \n",
      " 14  tech_support              7043 non-null   object \n",
      " 15  streaming_tv              7043 non-null   object \n",
      " 16  streaming_movies          7043 non-null   object \n",
      " 17  paperless_billing         7043 non-null   object \n",
      " 18  monthly_charges           7043 non-null   float64\n",
      " 19  total_charges             7043 non-null   object \n",
      " 20  churn                     7043 non-null   object \n",
      " 21  contract_type             7043 non-null   object \n",
      " 22  internet_service_type     7043 non-null   object \n",
      " 23  payment_type              7043 non-null   object \n",
      "dtypes: float64(1), int64(5), object(18)\n",
      "memory usage: 1.3+ MB\n"
     ]
    }
   ],
   "source": [
    "# check column names, shape, data types, null values\n",
    "df.info()"
   ]
  },
  {
   "cell_type": "code",
   "execution_count": 180,
   "id": "185f6964",
   "metadata": {},
   "outputs": [
    {
     "data": {
      "text/html": [
       "<div>\n",
       "<style scoped>\n",
       "    .dataframe tbody tr th:only-of-type {\n",
       "        vertical-align: middle;\n",
       "    }\n",
       "\n",
       "    .dataframe tbody tr th {\n",
       "        vertical-align: top;\n",
       "    }\n",
       "\n",
       "    .dataframe thead th {\n",
       "        text-align: right;\n",
       "    }\n",
       "</style>\n",
       "<table border=\"1\" class=\"dataframe\">\n",
       "  <thead>\n",
       "    <tr style=\"text-align: right;\">\n",
       "      <th></th>\n",
       "      <th>monthly_charges</th>\n",
       "    </tr>\n",
       "  </thead>\n",
       "  <tbody>\n",
       "    <tr>\n",
       "      <th>count</th>\n",
       "      <td>7043.000000</td>\n",
       "    </tr>\n",
       "    <tr>\n",
       "      <th>mean</th>\n",
       "      <td>64.761692</td>\n",
       "    </tr>\n",
       "    <tr>\n",
       "      <th>std</th>\n",
       "      <td>30.090047</td>\n",
       "    </tr>\n",
       "    <tr>\n",
       "      <th>min</th>\n",
       "      <td>18.250000</td>\n",
       "    </tr>\n",
       "    <tr>\n",
       "      <th>25%</th>\n",
       "      <td>35.500000</td>\n",
       "    </tr>\n",
       "    <tr>\n",
       "      <th>50%</th>\n",
       "      <td>70.350000</td>\n",
       "    </tr>\n",
       "    <tr>\n",
       "      <th>75%</th>\n",
       "      <td>89.850000</td>\n",
       "    </tr>\n",
       "    <tr>\n",
       "      <th>max</th>\n",
       "      <td>118.750000</td>\n",
       "    </tr>\n",
       "  </tbody>\n",
       "</table>\n",
       "</div>"
      ],
      "text/plain": [
       "       monthly_charges\n",
       "count      7043.000000\n",
       "mean         64.761692\n",
       "std          30.090047\n",
       "min          18.250000\n",
       "25%          35.500000\n",
       "50%          70.350000\n",
       "75%          89.850000\n",
       "max         118.750000"
      ]
     },
     "execution_count": 180,
     "metadata": {},
     "output_type": "execute_result"
    }
   ],
   "source": [
    "# check for outliers and get statistical information\n",
    "df[['monthly_charges', 'total_charges']].describe()"
   ]
  },
  {
   "cell_type": "code",
   "execution_count": 181,
   "id": "92045fa8",
   "metadata": {},
   "outputs": [],
   "source": [
    "# change data type for total charges from string to float\n",
    "df.total_charges = pd.to_numeric(df.total_charges, errors='coerce')"
   ]
  },
  {
   "cell_type": "code",
   "execution_count": 147,
   "id": "14794a5a",
   "metadata": {
    "scrolled": true
   },
   "outputs": [
    {
     "data": {
      "text/plain": [
       "dtype('float64')"
      ]
     },
     "execution_count": 147,
     "metadata": {},
     "output_type": "execute_result"
    }
   ],
   "source": [
    "df.total_charges.dtype"
   ]
  },
  {
   "cell_type": "code",
   "execution_count": 182,
   "id": "56bb665f",
   "metadata": {},
   "outputs": [
    {
     "data": {
      "text/plain": [
       "(7032, 24)"
      ]
     },
     "execution_count": 182,
     "metadata": {},
     "output_type": "execute_result"
    }
   ],
   "source": [
    "# drop rows where new customers have not yet had opportunity to churn\n",
    "df = df[df.total_charges.notnull()]\n",
    "df.shape"
   ]
  },
  {
   "cell_type": "code",
   "execution_count": 150,
   "id": "680b8ee1",
   "metadata": {},
   "outputs": [
    {
     "data": {
      "text/plain": [
       "Index(['payment_type_id', 'internet_service_type_id', 'contract_type_id',\n",
       "       'customer_id', 'gender', 'senior_citizen', 'partner', 'dependents',\n",
       "       'tenure', 'phone_service', 'multiple_lines', 'online_security',\n",
       "       'online_backup', 'device_protection', 'tech_support', 'streaming_tv',\n",
       "       'streaming_movies', 'paperless_billing', 'monthly_charges',\n",
       "       'total_charges', 'churn', 'contract_type', 'internet_service_type',\n",
       "       'payment_type'],\n",
       "      dtype='object')"
      ]
     },
     "execution_count": 150,
     "metadata": {},
     "output_type": "execute_result"
    }
   ],
   "source": [
    "# review column names\n",
    "df.columns"
   ]
  },
  {
   "cell_type": "code",
   "execution_count": 106,
   "id": "8eb14738",
   "metadata": {},
   "outputs": [
    {
     "name": "stdout",
     "output_type": "stream",
     "text": [
      "1    2365\n",
      "2    1604\n",
      "3    1542\n",
      "4    1521\n",
      "Name: payment_type_id, dtype: int64\n",
      "2    3096\n",
      "1    2416\n",
      "3    1520\n",
      "Name: internet_service_type_id, dtype: int64\n",
      "1    3875\n",
      "3    1685\n",
      "2    1472\n",
      "Name: contract_type_id, dtype: int64\n",
      "Male      3549\n",
      "Female    3483\n",
      "Name: gender, dtype: int64\n",
      "0    5890\n",
      "1    1142\n",
      "Name: senior_citizen, dtype: int64\n",
      "No     3639\n",
      "Yes    3393\n",
      "Name: partner, dtype: int64\n",
      "No     4933\n",
      "Yes    2099\n",
      "Name: dependents, dtype: int64\n",
      "Yes    6352\n",
      "No      680\n",
      "Name: phone_service, dtype: int64\n",
      "No                  3385\n",
      "Yes                 2967\n",
      "No phone service     680\n",
      "Name: multiple_lines, dtype: int64\n",
      "No                     3497\n",
      "Yes                    2015\n",
      "No internet service    1520\n",
      "Name: online_security, dtype: int64\n",
      "No                     3087\n",
      "Yes                    2425\n",
      "No internet service    1520\n",
      "Name: online_backup, dtype: int64\n",
      "No                     3094\n",
      "Yes                    2418\n",
      "No internet service    1520\n",
      "Name: device_protection, dtype: int64\n",
      "No                     3472\n",
      "Yes                    2040\n",
      "No internet service    1520\n",
      "Name: tech_support, dtype: int64\n",
      "No                     2809\n",
      "Yes                    2703\n",
      "No internet service    1520\n",
      "Name: streaming_tv, dtype: int64\n",
      "No                     2781\n",
      "Yes                    2731\n",
      "No internet service    1520\n",
      "Name: streaming_movies, dtype: int64\n",
      "Yes    4168\n",
      "No     2864\n",
      "Name: paperless_billing, dtype: int64\n",
      "No     5163\n",
      "Yes    1869\n",
      "Name: churn, dtype: int64\n",
      "Month-to-month    3875\n",
      "Two year          1685\n",
      "One year          1472\n",
      "Name: contract_type, dtype: int64\n",
      "Fiber optic    3096\n",
      "DSL            2416\n",
      "None           1520\n",
      "Name: internet_service_type, dtype: int64\n",
      "Electronic check             2365\n",
      "Mailed check                 1604\n",
      "Bank transfer (automatic)    1542\n",
      "Credit card (automatic)      1521\n",
      "Name: payment_type, dtype: int64\n"
     ]
    }
   ],
   "source": [
    "# check categorical column values\n",
    "col_list = df.columns.tolist()\n",
    "for col in col_list:\n",
    "    if col not in ['customer_id', 'tenure', 'monthly_charges', 'total_charges']:\n",
    "        print(df[col].value_counts(dropna=False))"
   ]
  },
  {
   "cell_type": "code",
   "execution_count": 39,
   "id": "a5fb36c9",
   "metadata": {
    "scrolled": false
   },
   "outputs": [
    {
     "data": {
      "text/html": [
       "<div>\n",
       "<style scoped>\n",
       "    .dataframe tbody tr th:only-of-type {\n",
       "        vertical-align: middle;\n",
       "    }\n",
       "\n",
       "    .dataframe tbody tr th {\n",
       "        vertical-align: top;\n",
       "    }\n",
       "\n",
       "    .dataframe thead th {\n",
       "        text-align: right;\n",
       "    }\n",
       "</style>\n",
       "<table border=\"1\" class=\"dataframe\">\n",
       "  <thead>\n",
       "    <tr style=\"text-align: right;\">\n",
       "      <th></th>\n",
       "      <th>gender</th>\n",
       "      <th>senior_citizen</th>\n",
       "      <th>partner</th>\n",
       "      <th>dependents</th>\n",
       "      <th>tenure</th>\n",
       "      <th>multiple_lines</th>\n",
       "      <th>online_security</th>\n",
       "      <th>online_backup</th>\n",
       "      <th>device_protection</th>\n",
       "      <th>tech_support</th>\n",
       "      <th>streaming_tv</th>\n",
       "      <th>streaming_movies</th>\n",
       "      <th>paperless_billing</th>\n",
       "      <th>monthly_charges</th>\n",
       "      <th>total_charges</th>\n",
       "      <th>churn</th>\n",
       "      <th>contract_type</th>\n",
       "      <th>internet_service_type</th>\n",
       "      <th>payment_type</th>\n",
       "    </tr>\n",
       "  </thead>\n",
       "  <tbody>\n",
       "    <tr>\n",
       "      <th>0</th>\n",
       "      <td>Female</td>\n",
       "      <td>0</td>\n",
       "      <td>Yes</td>\n",
       "      <td>Yes</td>\n",
       "      <td>65</td>\n",
       "      <td>Yes</td>\n",
       "      <td>Yes</td>\n",
       "      <td>Yes</td>\n",
       "      <td>Yes</td>\n",
       "      <td>Yes</td>\n",
       "      <td>Yes</td>\n",
       "      <td>Yes</td>\n",
       "      <td>Yes</td>\n",
       "      <td>90.45</td>\n",
       "      <td>5957.90</td>\n",
       "      <td>No</td>\n",
       "      <td>Two year</td>\n",
       "      <td>DSL</td>\n",
       "      <td>Mailed check</td>\n",
       "    </tr>\n",
       "    <tr>\n",
       "      <th>1</th>\n",
       "      <td>Male</td>\n",
       "      <td>0</td>\n",
       "      <td>No</td>\n",
       "      <td>No</td>\n",
       "      <td>54</td>\n",
       "      <td>No phone service</td>\n",
       "      <td>Yes</td>\n",
       "      <td>No</td>\n",
       "      <td>No</td>\n",
       "      <td>Yes</td>\n",
       "      <td>Yes</td>\n",
       "      <td>No</td>\n",
       "      <td>No</td>\n",
       "      <td>45.20</td>\n",
       "      <td>2460.55</td>\n",
       "      <td>No</td>\n",
       "      <td>Two year</td>\n",
       "      <td>DSL</td>\n",
       "      <td>Credit card (automatic)</td>\n",
       "    </tr>\n",
       "    <tr>\n",
       "      <th>2</th>\n",
       "      <td>Female</td>\n",
       "      <td>0</td>\n",
       "      <td>No</td>\n",
       "      <td>No</td>\n",
       "      <td>56</td>\n",
       "      <td>No phone service</td>\n",
       "      <td>Yes</td>\n",
       "      <td>Yes</td>\n",
       "      <td>Yes</td>\n",
       "      <td>Yes</td>\n",
       "      <td>No</td>\n",
       "      <td>No</td>\n",
       "      <td>No</td>\n",
       "      <td>45.05</td>\n",
       "      <td>2560.10</td>\n",
       "      <td>No</td>\n",
       "      <td>Two year</td>\n",
       "      <td>DSL</td>\n",
       "      <td>Bank transfer (automatic)</td>\n",
       "    </tr>\n",
       "    <tr>\n",
       "      <th>3</th>\n",
       "      <td>Male</td>\n",
       "      <td>0</td>\n",
       "      <td>Yes</td>\n",
       "      <td>Yes</td>\n",
       "      <td>20</td>\n",
       "      <td>No phone service</td>\n",
       "      <td>Yes</td>\n",
       "      <td>No</td>\n",
       "      <td>Yes</td>\n",
       "      <td>Yes</td>\n",
       "      <td>No</td>\n",
       "      <td>No</td>\n",
       "      <td>Yes</td>\n",
       "      <td>39.40</td>\n",
       "      <td>825.40</td>\n",
       "      <td>No</td>\n",
       "      <td>Two year</td>\n",
       "      <td>DSL</td>\n",
       "      <td>Credit card (automatic)</td>\n",
       "    </tr>\n",
       "    <tr>\n",
       "      <th>4</th>\n",
       "      <td>Male</td>\n",
       "      <td>0</td>\n",
       "      <td>Yes</td>\n",
       "      <td>No</td>\n",
       "      <td>72</td>\n",
       "      <td>Yes</td>\n",
       "      <td>No</td>\n",
       "      <td>Yes</td>\n",
       "      <td>Yes</td>\n",
       "      <td>Yes</td>\n",
       "      <td>Yes</td>\n",
       "      <td>Yes</td>\n",
       "      <td>Yes</td>\n",
       "      <td>85.15</td>\n",
       "      <td>6316.20</td>\n",
       "      <td>No</td>\n",
       "      <td>Two year</td>\n",
       "      <td>DSL</td>\n",
       "      <td>Bank transfer (automatic)</td>\n",
       "    </tr>\n",
       "  </tbody>\n",
       "</table>\n",
       "</div>"
      ],
      "text/plain": [
       "   gender  senior_citizen partner dependents  tenure    multiple_lines  \\\n",
       "0  Female               0     Yes        Yes      65               Yes   \n",
       "1    Male               0      No         No      54  No phone service   \n",
       "2  Female               0      No         No      56  No phone service   \n",
       "3    Male               0     Yes        Yes      20  No phone service   \n",
       "4    Male               0     Yes         No      72               Yes   \n",
       "\n",
       "  online_security online_backup device_protection tech_support streaming_tv  \\\n",
       "0             Yes           Yes               Yes          Yes          Yes   \n",
       "1             Yes            No                No          Yes          Yes   \n",
       "2             Yes           Yes               Yes          Yes           No   \n",
       "3             Yes            No               Yes          Yes           No   \n",
       "4              No           Yes               Yes          Yes          Yes   \n",
       "\n",
       "  streaming_movies paperless_billing  monthly_charges  total_charges churn  \\\n",
       "0              Yes               Yes            90.45        5957.90    No   \n",
       "1               No                No            45.20        2460.55    No   \n",
       "2               No                No            45.05        2560.10    No   \n",
       "3               No               Yes            39.40         825.40    No   \n",
       "4              Yes               Yes            85.15        6316.20    No   \n",
       "\n",
       "  contract_type internet_service_type               payment_type  \n",
       "0      Two year                   DSL               Mailed check  \n",
       "1      Two year                   DSL    Credit card (automatic)  \n",
       "2      Two year                   DSL  Bank transfer (automatic)  \n",
       "3      Two year                   DSL    Credit card (automatic)  \n",
       "4      Two year                   DSL  Bank transfer (automatic)  "
      ]
     },
     "execution_count": 39,
     "metadata": {},
     "output_type": "execute_result"
    }
   ],
   "source": [
    "# check data\n",
    "df.head()"
   ]
  },
  {
   "cell_type": "code",
   "execution_count": 183,
   "id": "de879747",
   "metadata": {},
   "outputs": [
    {
     "data": {
      "text/plain": [
       "No     5017\n",
       "Yes    2015\n",
       "Name: online_security, dtype: int64"
      ]
     },
     "execution_count": 183,
     "metadata": {},
     "output_type": "execute_result"
    }
   ],
   "source": [
    "# replace information included in another column to create binary values and simplify encoding\n",
    "df.replace('No internet service', 'No', inplace=True)\n",
    "df.online_security.value_counts()"
   ]
  },
  {
   "cell_type": "code",
   "execution_count": 184,
   "id": "8e4acd64",
   "metadata": {},
   "outputs": [],
   "source": [
    "# create df of dummy variables for columns with two values, dropping first\n",
    "dummy_df1 = pd.get_dummies(df[['gender', 'partner', 'dependents', 'online_security', 'online_backup', 'device_protection', 'tech_support', 'streaming_tv', 'streaming_movies', 'paperless_billing', 'churn']], drop_first=True)"
   ]
  },
  {
   "cell_type": "code",
   "execution_count": 185,
   "id": "f0da746f",
   "metadata": {},
   "outputs": [],
   "source": [
    "# create df of dummy variables for columns with more than two values, keeping all columns for clarity\n",
    "dummy_df2 = pd.get_dummies(df[['multiple_lines','contract_type', 'internet_service_type', 'payment_type']])"
   ]
  },
  {
   "cell_type": "code",
   "execution_count": 186,
   "id": "c9c786b5",
   "metadata": {},
   "outputs": [],
   "source": [
    "# identify and drop columns that are unnecessary or duplicated\n",
    "cols_to_drop = ['payment_type_id', 'internet_service_type_id', 'contract_type_id',\n",
    "       'customer_id', 'gender','partner', 'dependents', 'phone_service', 'online_security',\n",
    "       'online_backup', 'device_protection', 'tech_support', 'streaming_tv',\n",
    "       'streaming_movies', 'paperless_billing', 'churn']\n",
    "df = df.drop(columns=cols_to_drop)"
   ]
  },
  {
   "cell_type": "code",
   "execution_count": 187,
   "id": "87d1c9a6",
   "metadata": {},
   "outputs": [],
   "source": [
    "# concatenate dummy variable dfs onto original dataframe\n",
    "df = pd.concat([df, dummy_df1, dummy_df2], axis=1)"
   ]
  },
  {
   "cell_type": "code",
   "execution_count": 157,
   "id": "1bc956bf",
   "metadata": {},
   "outputs": [
    {
     "data": {
      "text/plain": [
       "(7032, 32)"
      ]
     },
     "execution_count": 157,
     "metadata": {},
     "output_type": "execute_result"
    }
   ],
   "source": [
    "# check shape to see if changes were made\n",
    "df.shape"
   ]
  },
  {
   "cell_type": "code",
   "execution_count": 159,
   "id": "df96ed4e",
   "metadata": {},
   "outputs": [
    {
     "data": {
      "text/plain": [
       "Index(['senior_citizen', 'tenure', 'multiple_lines', 'monthly_charges',\n",
       "       'total_charges', 'contract_type', 'internet_service_type',\n",
       "       'payment_type', 'gender_Male', 'partner_Yes', 'dependents_Yes',\n",
       "       'online_security_Yes', 'online_backup_Yes', 'device_protection_Yes',\n",
       "       'tech_support_Yes', 'streaming_tv_Yes', 'streaming_movies_Yes',\n",
       "       'paperless_billing_Yes', 'churn_Yes', 'multiple_lines_No',\n",
       "       'multiple_lines_No phone service', 'multiple_lines_Yes',\n",
       "       'contract_type_Month-to-month', 'contract_type_One year',\n",
       "       'contract_type_Two year', 'internet_service_type_DSL',\n",
       "       'internet_service_type_Fiber optic', 'internet_service_type_None',\n",
       "       'payment_type_Bank transfer (automatic)',\n",
       "       'payment_type_Credit card (automatic)', 'payment_type_Electronic check',\n",
       "       'payment_type_Mailed check'],\n",
       "      dtype='object')"
      ]
     },
     "execution_count": 159,
     "metadata": {},
     "output_type": "execute_result"
    }
   ],
   "source": [
    "# check column names\n",
    "df.columns"
   ]
  },
  {
   "cell_type": "code",
   "execution_count": 188,
   "id": "56b168bf",
   "metadata": {},
   "outputs": [],
   "source": [
    "# rename columns for clarity\n",
    "df.rename(columns={\n",
    "                'gender_Male': 'is_male',\n",
    "                'partner_Yes': 'has_partner',\n",
    "                'dependents_Yes': 'has_dependents',\n",
    "                'online_security_Yes': 'online_security',\n",
    "                'online_backup_Yes': 'online_backup',\n",
    "                'device_protection_Yes': 'device_protection',\n",
    "                'tech_support_Yes': 'tech_support',\n",
    "                'streaming_tv_Yes': 'streaming_tv',\n",
    "                'streaming_movies_Yes': 'streaming_movies',\n",
    "                'paperless_billing_Yes': 'paperless_billing',\n",
    "                'churn_Yes': 'churn',\n",
    "                'multiple_lines_No': 'one_line',\n",
    "                'multiple_lines_No phone service': 'no_phone_service',\n",
    "                'multiple_lines_Yes': 'has_multiple_lines',\n",
    "                'contract_type_Month-to-month': 'month_to_month_contract',\n",
    "                'contract_type_One year': 'one_year_contract',\n",
    "                'contract_type_Two year': 'two_year_contract',\n",
    "                'internet_service_type_DSL': 'dsl_internet',\n",
    "                'internet_service_type_Fiber optic': 'fiber_optic_internet',\n",
    "                'internet_service_type_None': 'no_internet_service',\n",
    "                'payment_type_Bank transfer (automatic)': 'bank_transfer_payment_automatic',\n",
    "                'payment_type_Credit card (automatic)': 'credit_card_payment_automatic',\n",
    "                'payment_type_Electronic check': 'electronic_check_payment',\n",
    "                'payment_type_Mailed check': 'mailed_check_payment'}, inplace=True)"
   ]
  },
  {
   "cell_type": "code",
   "execution_count": 189,
   "id": "e110c45b",
   "metadata": {
    "scrolled": true
   },
   "outputs": [
    {
     "data": {
      "text/plain": [
       "Index(['senior_citizen', 'tenure', 'multiple_lines', 'monthly_charges',\n",
       "       'total_charges', 'contract_type', 'internet_service_type',\n",
       "       'payment_type', 'is_male', 'has_partner', 'has_dependents',\n",
       "       'online_security', 'online_backup', 'device_protection', 'tech_support',\n",
       "       'streaming_tv', 'streaming_movies', 'paperless_billing', 'churn',\n",
       "       'one_line', 'no_phone_service', 'has_multiple_lines',\n",
       "       'month_to_month_contract', 'one_year_contract', 'two_year_contract',\n",
       "       'dsl_internet', 'fiber_optic_internet', 'no_internet_service',\n",
       "       'bank_transfer_payment_automatic', 'credit_card_payment_automatic',\n",
       "       'electronic_check_payment', 'mailed_check_payment'],\n",
       "      dtype='object')"
      ]
     },
     "execution_count": 189,
     "metadata": {},
     "output_type": "execute_result"
    }
   ],
   "source": [
    "# check that changes were made\n",
    "df.columns"
   ]
  },
  {
   "cell_type": "code",
   "execution_count": 190,
   "id": "90185b4d",
   "metadata": {},
   "outputs": [],
   "source": [
    "# specify numerical columns\n",
    "num_cols = ['senior_citizen', 'multiple_lines', 'contract_type', 'internet_service_type',\n",
    "       'payment_type', 'is_male', 'has_partner', 'has_dependents',\n",
    "       'online_security', 'online_backup', 'device_protection', 'tech_support',\n",
    "       'streaming_tv', 'streaming_movies', 'paperless_billing', 'churn']"
   ]
  },
  {
   "cell_type": "code",
   "execution_count": 165,
   "id": "943aa2b7",
   "metadata": {},
   "outputs": [
    {
     "data": {
      "image/png": "[encoded data removed]",
      "text/plain": [
       "<Figure size 432x288 with 1 Axes>"
      ]
     },
     "metadata": {
      "needs_background": "light"
     },
     "output_type": "display_data"
    },
    {
     "data": {
      "image/png": "[encoded data removed]",
      "text/plain": [
       "<Figure size 432x288 with 1 Axes>"
      ]
     },
     "metadata": {
      "needs_background": "light"
     },
     "output_type": "display_data"
    },
    {
     "data": {
      "image/png": "[encoded data removed]",
      "text/plain": [
       "<Figure size 432x288 with 1 Axes>"
      ]
     },
     "metadata": {
      "needs_background": "light"
     },
     "output_type": "display_data"
    },
    {
     "data": {
      "image/png": "[encoded data removed]",
      "text/plain": [
       "<Figure size 432x288 with 1 Axes>"
      ]
     },
     "metadata": {
      "needs_background": "light"
     },
     "output_type": "display_data"
    },
    {
     "data": {
      "image/png": "[encoded data removed]",
      "text/plain": [
       "<Figure size 432x288 with 1 Axes>"
      ]
     },
     "metadata": {
      "needs_background": "light"
     },
     "output_type": "display_data"
    },
    {
     "data": {
      "image/png": "[encoded data removed]",
      "text/plain": [
       "<Figure size 432x288 with 1 Axes>"
      ]
     },
     "metadata": {
      "needs_background": "light"
     },
     "output_type": "display_data"
    },
    {
     "data": {
      "image/png": "[encoded data removed]",
      "text/plain": [
       "<Figure size 432x288 with 1 Axes>"
      ]
     },
     "metadata": {
      "needs_background": "light"
     },
     "output_type": "display_data"
    },
    {
     "data": {
      "image/png": "[encoded data removed]",
      "text/plain": [
       "<Figure size 432x288 with 1 Axes>"
      ]
     },
     "metadata": {
      "needs_background": "light"
     },
     "output_type": "display_data"
    },
    {
     "data": {
      "image/png": "[encoded data removed]",
      "text/plain": [
       "<Figure size 432x288 with 1 Axes>"
      ]
     },
     "metadata": {
      "needs_background": "light"
     },
     "output_type": "display_data"
    },
    {
     "data": {
      "image/png": "[encoded data removed]",
      "text/plain": [
       "<Figure size 432x288 with 1 Axes>"
      ]
     },
     "metadata": {
      "needs_background": "light"
     },
     "output_type": "display_data"
    },
    {
     "data": {
      "image/png": "[encoded data removed]",
      "text/plain": [
       "<Figure size 432x288 with 1 Axes>"
      ]
     },
     "metadata": {
      "needs_background": "light"
     },
     "output_type": "display_data"
    },
    {
     "data": {
      "image/png": "[encoded data removed]",
      "text/plain": [
       "<Figure size 432x288 with 1 Axes>"
      ]
     },
     "metadata": {
      "needs_background": "light"
     },
     "output_type": "display_data"
    },
    {
     "data": {
      "image/png": "[encoded data removed]",
      "text/plain": [
       "<Figure size 432x288 with 1 Axes>"
      ]
     },
     "metadata": {
      "needs_background": "light"
     },
     "output_type": "display_data"
    },
    {
     "data": {
      "image/png": "[encoded data removed]",
      "text/plain": [
       "<Figure size 432x288 with 1 Axes>"
      ]
     },
     "metadata": {
      "needs_background": "light"
     },
     "output_type": "display_data"
    },
    {
     "data": {
      "image/png": "[encoded data removed]",
      "text/plain": [
       "<Figure size 432x288 with 1 Axes>"
      ]
     },
     "metadata": {
      "needs_background": "light"
     },
     "output_type": "display_data"
    },
    {
     "data": {
      "image/png": "[encoded data removed]",
      "text/plain": [
       "<Figure size 432x288 with 1 Axes>"
      ]
     },
     "metadata": {
      "needs_background": "light"
     },
     "output_type": "display_data"
    }
   ],
   "source": [
    "# create histogram for numerical columns to check out distribution\n",
    "for col in num_cols: \n",
    "    plt.hist(df[col])\n",
    "    plt.title(col)\n",
    "    plt.show()"
   ]
  },
  {
   "cell_type": "code",
   "execution_count": 191,
   "id": "e5357cc0",
   "metadata": {},
   "outputs": [
    {
     "data": {
      "text/plain": [
       "(18.148999999999997, 38.35]    0.254693\n",
       "(38.35, 58.45]                 0.142634\n",
       "(58.45, 78.55]                 0.194113\n",
       "(78.55, 98.65]                 0.259528\n",
       "(98.65, 118.75]                0.149033\n",
       "Name: monthly_charges, dtype: float64"
      ]
     },
     "execution_count": 191,
     "metadata": {},
     "output_type": "execute_result"
    }
   ],
   "source": [
    "df.monthly_charges.value_counts(bins=5, normalize=True, sort=False)"
   ]
  },
  {
   "cell_type": "code",
   "execution_count": 192,
   "id": "ffaf3e8e",
   "metadata": {},
   "outputs": [],
   "source": [
    "def split_telco_data(df):\n",
    "    '''\n",
    "    This function takes in a dataframe and splits the data into train, validate and test samples. \n",
    "    Test, validate, and train are 20%, 24%, & 56% of the original dataset, respectively. \n",
    "    The function returns train, validate and test dataframes. \n",
    "    '''\n",
    "    # split dataframe 80/20, stratify on churn to ensure equal proportions in both dataframes\n",
    "    train_validate, test = train_test_split(df, test_size=.2, \n",
    "                                            random_state=369, \n",
    "                                            stratify=df.churn)\n",
    "    # split larger dataframe from previous split 70/30, stratify on churn\n",
    "    train, validate = train_test_split(train_validate, test_size=.3, \n",
    "                                       random_state=123, \n",
    "                                       stratify=train_validate.churn)\n",
    "    # results in 3 dataframes\n",
    "    return train, validate, test"
   ]
  },
  {
   "cell_type": "code",
   "execution_count": 193,
   "id": "076b2ea7",
   "metadata": {},
   "outputs": [
    {
     "data": {
      "text/html": [
       "<div>\n",
       "<style scoped>\n",
       "    .dataframe tbody tr th:only-of-type {\n",
       "        vertical-align: middle;\n",
       "    }\n",
       "\n",
       "    .dataframe tbody tr th {\n",
       "        vertical-align: top;\n",
       "    }\n",
       "\n",
       "    .dataframe thead th {\n",
       "        text-align: right;\n",
       "    }\n",
       "</style>\n",
       "<table border=\"1\" class=\"dataframe\">\n",
       "  <thead>\n",
       "    <tr style=\"text-align: right;\">\n",
       "      <th></th>\n",
       "      <th>senior_citizen</th>\n",
       "      <th>tenure</th>\n",
       "      <th>multiple_lines</th>\n",
       "      <th>monthly_charges</th>\n",
       "      <th>total_charges</th>\n",
       "      <th>contract_type</th>\n",
       "      <th>internet_service_type</th>\n",
       "      <th>payment_type</th>\n",
       "      <th>is_male</th>\n",
       "      <th>has_partner</th>\n",
       "      <th>has_dependents</th>\n",
       "      <th>online_security</th>\n",
       "      <th>online_backup</th>\n",
       "      <th>device_protection</th>\n",
       "      <th>tech_support</th>\n",
       "      <th>streaming_tv</th>\n",
       "      <th>streaming_movies</th>\n",
       "      <th>paperless_billing</th>\n",
       "      <th>churn</th>\n",
       "      <th>one_line</th>\n",
       "      <th>no_phone_service</th>\n",
       "      <th>has_multiple_lines</th>\n",
       "      <th>month_to_month_contract</th>\n",
       "      <th>one_year_contract</th>\n",
       "      <th>two_year_contract</th>\n",
       "      <th>dsl_internet</th>\n",
       "      <th>fiber_optic_internet</th>\n",
       "      <th>no_internet_service</th>\n",
       "      <th>bank_transfer_payment_automatic</th>\n",
       "      <th>credit_card_payment_automatic</th>\n",
       "      <th>electronic_check_payment</th>\n",
       "      <th>mailed_check_payment</th>\n",
       "    </tr>\n",
       "  </thead>\n",
       "  <tbody>\n",
       "    <tr>\n",
       "      <th>1196</th>\n",
       "      <td>0</td>\n",
       "      <td>63</td>\n",
       "      <td>Yes</td>\n",
       "      <td>68.80</td>\n",
       "      <td>4111.35</td>\n",
       "      <td>One year</td>\n",
       "      <td>DSL</td>\n",
       "      <td>Bank transfer (automatic)</td>\n",
       "      <td>1</td>\n",
       "      <td>0</td>\n",
       "      <td>0</td>\n",
       "      <td>1</td>\n",
       "      <td>1</td>\n",
       "      <td>1</td>\n",
       "      <td>1</td>\n",
       "      <td>0</td>\n",
       "      <td>0</td>\n",
       "      <td>0</td>\n",
       "      <td>0</td>\n",
       "      <td>0</td>\n",
       "      <td>0</td>\n",
       "      <td>1</td>\n",
       "      <td>0</td>\n",
       "      <td>1</td>\n",
       "      <td>0</td>\n",
       "      <td>1</td>\n",
       "      <td>0</td>\n",
       "      <td>0</td>\n",
       "      <td>1</td>\n",
       "      <td>0</td>\n",
       "      <td>0</td>\n",
       "      <td>0</td>\n",
       "    </tr>\n",
       "    <tr>\n",
       "      <th>4239</th>\n",
       "      <td>1</td>\n",
       "      <td>23</td>\n",
       "      <td>No</td>\n",
       "      <td>75.40</td>\n",
       "      <td>1643.55</td>\n",
       "      <td>Month-to-month</td>\n",
       "      <td>Fiber optic</td>\n",
       "      <td>Bank transfer (automatic)</td>\n",
       "      <td>0</td>\n",
       "      <td>0</td>\n",
       "      <td>0</td>\n",
       "      <td>1</td>\n",
       "      <td>0</td>\n",
       "      <td>0</td>\n",
       "      <td>0</td>\n",
       "      <td>0</td>\n",
       "      <td>0</td>\n",
       "      <td>1</td>\n",
       "      <td>0</td>\n",
       "      <td>1</td>\n",
       "      <td>0</td>\n",
       "      <td>0</td>\n",
       "      <td>1</td>\n",
       "      <td>0</td>\n",
       "      <td>0</td>\n",
       "      <td>0</td>\n",
       "      <td>1</td>\n",
       "      <td>0</td>\n",
       "      <td>1</td>\n",
       "      <td>0</td>\n",
       "      <td>0</td>\n",
       "      <td>0</td>\n",
       "    </tr>\n",
       "    <tr>\n",
       "      <th>846</th>\n",
       "      <td>0</td>\n",
       "      <td>42</td>\n",
       "      <td>No phone service</td>\n",
       "      <td>45.10</td>\n",
       "      <td>2049.05</td>\n",
       "      <td>One year</td>\n",
       "      <td>DSL</td>\n",
       "      <td>Credit card (automatic)</td>\n",
       "      <td>1</td>\n",
       "      <td>1</td>\n",
       "      <td>1</td>\n",
       "      <td>0</td>\n",
       "      <td>1</td>\n",
       "      <td>1</td>\n",
       "      <td>0</td>\n",
       "      <td>0</td>\n",
       "      <td>1</td>\n",
       "      <td>1</td>\n",
       "      <td>0</td>\n",
       "      <td>0</td>\n",
       "      <td>1</td>\n",
       "      <td>0</td>\n",
       "      <td>0</td>\n",
       "      <td>1</td>\n",
       "      <td>0</td>\n",
       "      <td>1</td>\n",
       "      <td>0</td>\n",
       "      <td>0</td>\n",
       "      <td>0</td>\n",
       "      <td>1</td>\n",
       "      <td>0</td>\n",
       "      <td>0</td>\n",
       "    </tr>\n",
       "    <tr>\n",
       "      <th>6014</th>\n",
       "      <td>0</td>\n",
       "      <td>60</td>\n",
       "      <td>No</td>\n",
       "      <td>20.55</td>\n",
       "      <td>1205.05</td>\n",
       "      <td>Two year</td>\n",
       "      <td>None</td>\n",
       "      <td>Mailed check</td>\n",
       "      <td>1</td>\n",
       "      <td>1</td>\n",
       "      <td>1</td>\n",
       "      <td>0</td>\n",
       "      <td>0</td>\n",
       "      <td>0</td>\n",
       "      <td>0</td>\n",
       "      <td>0</td>\n",
       "      <td>0</td>\n",
       "      <td>0</td>\n",
       "      <td>0</td>\n",
       "      <td>1</td>\n",
       "      <td>0</td>\n",
       "      <td>0</td>\n",
       "      <td>0</td>\n",
       "      <td>0</td>\n",
       "      <td>1</td>\n",
       "      <td>0</td>\n",
       "      <td>0</td>\n",
       "      <td>1</td>\n",
       "      <td>0</td>\n",
       "      <td>0</td>\n",
       "      <td>0</td>\n",
       "      <td>1</td>\n",
       "    </tr>\n",
       "    <tr>\n",
       "      <th>6667</th>\n",
       "      <td>0</td>\n",
       "      <td>1</td>\n",
       "      <td>Yes</td>\n",
       "      <td>25.75</td>\n",
       "      <td>25.75</td>\n",
       "      <td>Month-to-month</td>\n",
       "      <td>None</td>\n",
       "      <td>Mailed check</td>\n",
       "      <td>0</td>\n",
       "      <td>0</td>\n",
       "      <td>0</td>\n",
       "      <td>0</td>\n",
       "      <td>0</td>\n",
       "      <td>0</td>\n",
       "      <td>0</td>\n",
       "      <td>0</td>\n",
       "      <td>0</td>\n",
       "      <td>1</td>\n",
       "      <td>0</td>\n",
       "      <td>0</td>\n",
       "      <td>0</td>\n",
       "      <td>1</td>\n",
       "      <td>1</td>\n",
       "      <td>0</td>\n",
       "      <td>0</td>\n",
       "      <td>0</td>\n",
       "      <td>0</td>\n",
       "      <td>1</td>\n",
       "      <td>0</td>\n",
       "      <td>0</td>\n",
       "      <td>0</td>\n",
       "      <td>1</td>\n",
       "    </tr>\n",
       "  </tbody>\n",
       "</table>\n",
       "</div>"
      ],
      "text/plain": [
       "      senior_citizen  tenure    multiple_lines  monthly_charges  \\\n",
       "1196               0      63               Yes            68.80   \n",
       "4239               1      23                No            75.40   \n",
       "846                0      42  No phone service            45.10   \n",
       "6014               0      60                No            20.55   \n",
       "6667               0       1               Yes            25.75   \n",
       "\n",
       "      total_charges   contract_type internet_service_type  \\\n",
       "1196        4111.35        One year                   DSL   \n",
       "4239        1643.55  Month-to-month           Fiber optic   \n",
       "846         2049.05        One year                   DSL   \n",
       "6014        1205.05        Two year                  None   \n",
       "6667          25.75  Month-to-month                  None   \n",
       "\n",
       "                   payment_type  is_male  has_partner  has_dependents  \\\n",
       "1196  Bank transfer (automatic)        1            0               0   \n",
       "4239  Bank transfer (automatic)        0            0               0   \n",
       "846     Credit card (automatic)        1            1               1   \n",
       "6014               Mailed check        1            1               1   \n",
       "6667               Mailed check        0            0               0   \n",
       "\n",
       "      online_security  online_backup  device_protection  tech_support  \\\n",
       "1196                1              1                  1             1   \n",
       "4239                1              0                  0             0   \n",
       "846                 0              1                  1             0   \n",
       "6014                0              0                  0             0   \n",
       "6667                0              0                  0             0   \n",
       "\n",
       "      streaming_tv  streaming_movies  paperless_billing  churn  one_line  \\\n",
       "1196             0                 0                  0      0         0   \n",
       "4239             0                 0                  1      0         1   \n",
       "846              0                 1                  1      0         0   \n",
       "6014             0                 0                  0      0         1   \n",
       "6667             0                 0                  1      0         0   \n",
       "\n",
       "      no_phone_service  has_multiple_lines  month_to_month_contract  \\\n",
       "1196                 0                   1                        0   \n",
       "4239                 0                   0                        1   \n",
       "846                  1                   0                        0   \n",
       "6014                 0                   0                        0   \n",
       "6667                 0                   1                        1   \n",
       "\n",
       "      one_year_contract  two_year_contract  dsl_internet  \\\n",
       "1196                  1                  0             1   \n",
       "4239                  0                  0             0   \n",
       "846                   1                  0             1   \n",
       "6014                  0                  1             0   \n",
       "6667                  0                  0             0   \n",
       "\n",
       "      fiber_optic_internet  no_internet_service  \\\n",
       "1196                     0                    0   \n",
       "4239                     1                    0   \n",
       "846                      0                    0   \n",
       "6014                     0                    1   \n",
       "6667                     0                    1   \n",
       "\n",
       "      bank_transfer_payment_automatic  credit_card_payment_automatic  \\\n",
       "1196                                1                              0   \n",
       "4239                                1                              0   \n",
       "846                                 0                              1   \n",
       "6014                                0                              0   \n",
       "6667                                0                              0   \n",
       "\n",
       "      electronic_check_payment  mailed_check_payment  \n",
       "1196                         0                     0  \n",
       "4239                         0                     0  \n",
       "846                          0                     0  \n",
       "6014                         0                     1  \n",
       "6667                         0                     1  "
      ]
     },
     "execution_count": 193,
     "metadata": {},
     "output_type": "execute_result"
    }
   ],
   "source": [
    "# use function above to split telco data, assign to variables, and check train dataset\n",
    "train, validate, test = split_telco_data(df)\n",
    "train.head()"
   ]
  },
  {
   "cell_type": "markdown",
   "id": "f1e4065a",
   "metadata": {},
   "source": [
    "**Steps taken to prepare the data:**\n",
    "\n",
    "- Checked column names, data types, dataframe shape, null values, statistical information, and value counts\n",
    "\n",
    "- Changed data type for total charges to float\n",
    "\n",
    "- Dropped rows for customers with less than a month of service therefore no opportunity to churn\n",
    "\n",
    "- Replaced all instances of 'No internet service' as that information is duplicated in another column\n",
    "\n",
    "- Created dummy variables for columns with object data type\n",
    "\n",
    "- Dropped columns that were duplicated by creating dummy variables or unnecessary \n",
    "\n",
    "- Used histograms to check out distribution of numerical columns\n",
    "\n",
    "- Created functions to clean and split the data"
   ]
  },
  {
   "cell_type": "markdown",
   "id": "c2b540c0",
   "metadata": {},
   "source": [
    "***"
   ]
  },
  {
   "cell_type": "markdown",
   "id": "729f8f35",
   "metadata": {},
   "source": [
    "# Exploration"
   ]
  },
  {
   "cell_type": "code",
   "execution_count": 347,
   "id": "ede77388",
   "metadata": {
    "scrolled": true
   },
   "outputs": [
    {
     "data": {
      "text/plain": [
       "<AxesSubplot:>"
      ]
     },
     "execution_count": 347,
     "metadata": {},
     "output_type": "execute_result"
    },
    {
     "data": {
      "image/png": "[encoded data removed]",
      "text/plain": [
       "<Figure size 432x288 with 1 Axes>"
      ]
     },
     "metadata": {
      "needs_background": "light"
     },
     "output_type": "display_data"
    }
   ],
   "source": [
    "train.corr()['churn'].sort_values().plot(kind='bar')"
   ]
  },
  {
   "cell_type": "markdown",
   "id": "a965c90b",
   "metadata": {},
   "source": [
    "## 1. Do customers with month-to-month contracts churn more than other contract types?"
   ]
  },
  {
   "cell_type": "code",
   "execution_count": 331,
   "id": "85202d73",
   "metadata": {},
   "outputs": [
    {
     "data": {
      "text/plain": [
       "Text(0, 0.5, 'Number of Customers')"
      ]
     },
     "execution_count": 331,
     "metadata": {},
     "output_type": "execute_result"
    },
    {
     "data": {
      "image/png": "[encoded data removed]",
      "text/plain": [
       "<Figure size 720x576 with 1 Axes>"
      ]
     },
     "metadata": {
      "needs_background": "light"
     },
     "output_type": "display_data"
    }
   ],
   "source": [
    "# plot visualization of number of customers churned/not churned by contract type\n",
    "plt.figure(figsize=(10,8))\n",
    "sns.countplot(x='contract_type', hue='churn', palette='deep', data=train)\n",
    "plt.title('Month-to-Month Customers Churn At Higher Rates', fontsize=18)\n",
    "plt.legend(labels=['Has Not Churned','Has Churned'])\n",
    "plt.xlabel('Contract Type')\n",
    "plt.ylabel('Number of Customers')"
   ]
  },
  {
   "cell_type": "markdown",
   "id": "c5f6f81c",
   "metadata": {},
   "source": [
    "## Month-to-month customers churn at almost 5x the rate of those with contracts"
   ]
  },
  {
   "cell_type": "markdown",
   "id": "2e1e8a1e",
   "metadata": {},
   "source": [
    "***"
   ]
  },
  {
   "cell_type": "markdown",
   "id": "40423c25",
   "metadata": {},
   "source": [
    "## 2. Is there a tenure length where customers are more likely to churn?"
   ]
  },
  {
   "cell_type": "code",
   "execution_count": 342,
   "id": "be11a0f8",
   "metadata": {},
   "outputs": [
    {
     "data": {
      "text/plain": [
       "<matplotlib.lines.Line2D at 0x7fb561f4b310>"
      ]
     },
     "execution_count": 342,
     "metadata": {},
     "output_type": "execute_result"
    },
    {
     "data": {
      "image/png": "[encoded data removed]",
      "text/plain": [
       "<Figure size 692.75x576 with 1 Axes>"
      ]
     },
     "metadata": {
      "needs_background": "light"
     },
     "output_type": "display_data"
    }
   ],
   "source": [
    "# plot visualization of relationship of amount of customers churned across different lengths of tenure\n",
    "sns.catplot(x='churn', y='tenure', \n",
    "            kind='swarm', hue='contract_type', \n",
    "            palette='deep', size=8, aspect=1,\n",
    "            data=train[train.churn==1])\n",
    "\n",
    "plt.title('Many Customers Churn Within A Year Of Starting Telco Services', fontsize=18)\n",
    "plt.xlabel('Has Churned')\n",
    "plt.ylabel('Months of Tenure')\n",
    "plt.xticks([1], ['Has Churned'])\n",
    "plt.axhline(y=12)"
   ]
  },
  {
   "cell_type": "markdown",
   "id": "e86340f2",
   "metadata": {},
   "source": [
    "## The largest portion of customers who churn do so within the first 6 months"
   ]
  },
  {
   "cell_type": "markdown",
   "id": "eff134ab",
   "metadata": {},
   "source": [
    "***"
   ]
  },
  {
   "cell_type": "markdown",
   "id": "16f58a57",
   "metadata": {},
   "source": [
    "## Is a specific internet service type associated with higher churn rates?"
   ]
  },
  {
   "cell_type": "code",
   "execution_count": 329,
   "id": "ea5a8a38",
   "metadata": {
    "scrolled": false
   },
   "outputs": [
    {
     "data": {
      "text/plain": [
       "Text(0, 0.5, 'Number of Customers')"
      ]
     },
     "execution_count": 329,
     "metadata": {},
     "output_type": "execute_result"
    },
    {
     "data": {
      "image/png": "[encoded data removed]",
      "text/plain": [
       "<Figure size 720x576 with 1 Axes>"
      ]
     },
     "metadata": {
      "needs_background": "light"
     },
     "output_type": "display_data"
    }
   ],
   "source": [
    "# plot visualization of number of customers churned/not churned by internet service type\n",
    "plt.figure(figsize=(10,8))\n",
    "sns.countplot(x='internet_service_type', hue='churn', palette='deep', data=train)\n",
    "plt.title('Fiber Optic Customers Are More Likely To Churn', fontsize=18)\n",
    "plt.legend(labels=['Has Not Churned','Has Churned'])\n",
    "plt.xlabel('Internet Service Type')\n",
    "plt.ylabel('Number of Customers')"
   ]
  },
  {
   "cell_type": "markdown",
   "id": "1f2b239c",
   "metadata": {},
   "source": [
    "**Hypothesis testing to see if this is statistically significant:**\n",
    "\n",
    "**Null Hypothesis: Fiber optic customers are just as likely or less likely to churn than those with DSL or no internet.**\n",
    "\n",
    "**Null Hypothesis: Fiber optic customers are more likely to churn than those with DSL or no internet.**"
   ]
  },
  {
   "cell_type": "code",
   "execution_count": 343,
   "id": "6fc38bdd",
   "metadata": {},
   "outputs": [
    {
     "name": "stdout",
     "output_type": "stream",
     "text": [
      "We reject the null hypothesis\n"
     ]
    }
   ],
   "source": [
    "# conduct hypothesis testing to evaluate the relationship between churn and internet service type\n",
    "observed = pd.crosstab(train.churn, train.internet_service_type)\n",
    "chi2, p, degf, expected = stats.chi2_contingency(observed)\n",
    "\n",
    "if p < alpha:\n",
    "      print('We reject the null hypothesis')\n",
    "else:\n",
    "    print('We fail to reject the null hypothesis')"
   ]
  },
  {
   "cell_type": "markdown",
   "id": "533bd967",
   "metadata": {},
   "source": [
    "## Both the chart and test show that fiber optic customers are more likely to churn."
   ]
  },
  {
   "cell_type": "markdown",
   "id": "73e8546a",
   "metadata": {},
   "source": [
    "***"
   ]
  },
  {
   "cell_type": "markdown",
   "id": "d77a4630",
   "metadata": {},
   "source": [
    "## Is it higher monthly charges that are causing churn?"
   ]
  },
  {
   "cell_type": "code",
   "execution_count": 345,
   "id": "2311bf80",
   "metadata": {},
   "outputs": [
    {
     "data": {
      "text/plain": [
       "([<matplotlib.axis.XTick at 0x7fb548d75dc0>,\n",
       "  <matplotlib.axis.XTick at 0x7fb548d75b80>],\n",
       " [Text(0, 0, 'No'), Text(1, 0, 'Yes')])"
      ]
     },
     "execution_count": 345,
     "metadata": {},
     "output_type": "execute_result"
    },
    {
     "data": {
      "image/png": "[encoded data removed]",
      "text/plain": [
       "<Figure size 720x576 with 1 Axes>"
      ]
     },
     "metadata": {
      "needs_background": "light"
     },
     "output_type": "display_data"
    }
   ],
   "source": [
    "# plot visualization of distribution of monthly charges for those who have churned vs those who have not churned\n",
    "plt.figure(figsize=(10,8))\n",
    "sns.boxplot(x=train.churn, y=train.monthly_charges, data=train , palette='deep')\n",
    "plt.title('Avg Monthly Charges Are Higher For Customers Who Churn', fontsize=18)\n",
    "plt.xlabel('Has Churned')\n",
    "plt.ylabel('Monthly Charges ($)')\n",
    "plt.xticks([0, 1], ['No','Yes'])"
   ]
  },
  {
   "cell_type": "markdown",
   "id": "365cf22b",
   "metadata": {},
   "source": [
    "**Hypothesis testing using one-sample, one-tail t-test to see if this is statistically significant:**\n",
    "\n",
    "Because sample size is >500, the central limit theorum tells us that we can assume normal distribution\n",
    "\n",
    "**Null Hypothesis: Monthly charges for customers who have churned are equal or less than those for customers who have not churned**\n",
    "\n",
    "**Alternate Hypothesis: Monthly charges for customers who have churned are more than those for customers who have not churned**"
   ]
  },
  {
   "cell_type": "code",
   "execution_count": 346,
   "id": "238cf040",
   "metadata": {},
   "outputs": [
    {
     "name": "stdout",
     "output_type": "stream",
     "text": [
      "We reject the null hypothesis\n"
     ]
    }
   ],
   "source": [
    "# conduct hypothesis testing to evaluate the relationship between churn and monthly charges\n",
    "alpha = 0.05\n",
    "churn_subset = train[train.churn==1].monthly_charges\n",
    "mean_charges = train.monthly_charges.mean()\n",
    "\n",
    "t, p = stats.ttest_1samp(churn_subset, mean_charges)\n",
    "\n",
    "if p/2 > alpha:\n",
    "    print('We fail to reject the null hypothesis')\n",
    "elif t < 0:\n",
    "    print('We fail to reject the null hypothesis')\n",
    "else:\n",
    "    print('We reject the null hypothesis')"
   ]
  },
  {
   "cell_type": "markdown",
   "id": "130616ef",
   "metadata": {},
   "source": [
    "## Both the chart and test show that churn is associated with higher monthly charges."
   ]
  },
  {
   "cell_type": "markdown",
   "id": "a24a47aa",
   "metadata": {},
   "source": [
    "***"
   ]
  },
  {
   "cell_type": "markdown",
   "id": "276b3f73",
   "metadata": {},
   "source": [
    "## Exploration Summary\n",
    "\n",
    "\n",
    "**- Month-to-month contracts and having fiber optic internet service are both correlated with higher rates of churn**\n",
    "\n",
    "**- Higher monthly charges are also seen with customers who have churned**\n",
    "\n",
    "**- Key takeaway is that customers are unhappy with the higher prices associated with fiber optic service and/or the quality of fiber optic service**\n",
    "\n",
    "**- Going forward these features will be key to identifying customers with an increased risk of churning in order to target them with incentivized offers for their loyalty**\n",
    "\n",
    "**- Features that will be used in modeling because of their correlation with churn are:** \n",
    "\n",
    "*tenure, monthly_charges, paperless_billing, churn, month_to_month_contract, one_year_contract, two_year_contract, dsl_internet, fiber_optic_internet, no_internet_service*\n",
    "       \n",
    "**- Features that will not be used in modeling because of their limited correlation with churn or because already represented with dummy variables are:** \n",
    "\n",
    "*senior_citizen, multiple_lines, total_charges, contract_type, internet_service_type, payment_type, is_male, has_partner, has_dependents, online_security, online_backup, device_protection, tech_support, streaming_tv, streaming_movies, one_line, no_phone_service, has_multiple_lines, bank_transfer_payment_automatic, credit_card_payment_automatic, electronic_check_payment, mailed_check_payment*"
   ]
  },
  {
   "cell_type": "markdown",
   "id": "d149eb39",
   "metadata": {},
   "source": [
    "2 statistical tests (state null/alternate hypothesis) include vizes of the variable interactions"
   ]
  },
  {
   "cell_type": "markdown",
   "id": "ba6d26e0",
   "metadata": {},
   "source": [
    "correlation: 2 continuous variables, normally distributed, testing for LINEAR correlation only (H_0: Not linearly dependent) - independent t-test: 1 continuous, somewhat normally distributed variable, one boolean variable, equal variance, independent (H_0: population mean of each group is equal) - chi-square test: 2 discrete variables. (H_0: the 2 variables are independent of each other). (other tests may be used)"
   ]
  },
  {
   "cell_type": "markdown",
   "id": "d2d61aac",
   "metadata": {},
   "source": [
    "## Look at user defined functions to see which might be useful"
   ]
  },
  {
   "cell_type": "markdown",
   "id": "f1c951d6",
   "metadata": {},
   "source": [
    "***"
   ]
  },
  {
   "cell_type": "markdown",
   "id": "eac32f95",
   "metadata": {},
   "source": [
    "# Modeling"
   ]
  },
  {
   "cell_type": "markdown",
   "id": "9c84378f",
   "metadata": {},
   "source": [
    "3 best models"
   ]
  },
  {
   "cell_type": "markdown",
   "id": "94a888f6",
   "metadata": {},
   "source": [
    "Create a baseline and evaluate performance. The baseline is based on the training dataset."
   ]
  },
  {
   "cell_type": "markdown",
   "id": "96bd5efc",
   "metadata": {},
   "source": [
    "Evaluate on train"
   ]
  },
  {
   "cell_type": "markdown",
   "id": "327b6827",
   "metadata": {},
   "source": [
    "Evaluate 3 best on validate"
   ]
  },
  {
   "cell_type": "markdown",
   "id": "4837365c",
   "metadata": {},
   "source": [
    "Clear communication as to how you evaluated and compared models. What metric(s) did you use and why? For example, in one case, you may decide to use precision over accuracy. If so, why? If you use multiple metrics, how will you decide which to select if metric is better for model A but another is better for model B? Will you rank them? Find a way to aggregate them into a single metric you can use to rank?"
   ]
  },
  {
   "cell_type": "markdown",
   "id": "7dd64534",
   "metadata": {},
   "source": [
    "Evaluate top model on Test"
   ]
  },
  {
   "cell_type": "code",
   "execution_count": 13,
   "id": "53ab61a1",
   "metadata": {},
   "outputs": [],
   "source": [
    "# comments in every code block"
   ]
  },
  {
   "cell_type": "markdown",
   "id": "1f783d48",
   "metadata": {},
   "source": []
  },
  {
   "cell_type": "markdown",
   "id": "eb425b9d",
   "metadata": {},
   "source": [
    "On your best model, a chart visualizing how it performed on test would be nice"
   ]
  },
  {
   "cell_type": "markdown",
   "id": "a6a105de",
   "metadata": {},
   "source": [
    "# Conclusion"
   ]
  },
  {
   "cell_type": "markdown",
   "id": "2242d8a9",
   "metadata": {},
   "source": [
    "## Summary\n",
    "\n",
    "- Original goals and how I reached them or didn't\n",
    "\n",
    "the summary should tie together your analysis, the drivers of the outcome, and how you would expect your ML model to perform in the future on unseen data, in layman's terms.\n",
    "\n",
    "\"I expect this model to perform with x% accuracy on unseen data\""
   ]
  },
  {
   "cell_type": "markdown",
   "id": "d836aba0",
   "metadata": {},
   "source": [
    "## Recommendations\n",
    "\n",
    "actionable recommendations based on your insights and analysis to the business stakeholder(s),"
   ]
  },
  {
   "cell_type": "markdown",
   "id": "580f35ff",
   "metadata": {},
   "source": [
    "## Next Steps\n",
    "\n",
    "remember the best way to improve performance is to have better predictors/features. If you talk about gathering more data, being specific about what data you think will help you understand the problem better and why is the way to go!"
   ]
  },
  {
   "cell_type": "code",
   "execution_count": null,
   "id": "0e576f22",
   "metadata": {},
   "outputs": [],
   "source": []
  }
 ],
 "metadata": {
  "kernelspec": {
   "display_name": "Python 3",
   "language": "python",
   "name": "python3"
  },
  "language_info": {
   "codemirror_mode": {
    "name": "ipython",
    "version": 3
   },
   "file_extension": ".py",
   "mimetype": "text/x-python",
   "name": "python",
   "nbconvert_exporter": "python",
   "pygments_lexer": "ipython3",
   "version": "3.8.8"
  }
 },
 "nbformat": 4,
 "nbformat_minor": 5
}
