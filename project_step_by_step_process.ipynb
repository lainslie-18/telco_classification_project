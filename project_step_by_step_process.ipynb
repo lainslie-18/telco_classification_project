{
 "cells": [
  {
   "cell_type": "markdown",
   "id": "5dfa5a9a",
   "metadata": {},
   "source": [
    "# Planning"
   ]
  },
  {
   "cell_type": "markdown",
   "id": "e8d87676",
   "metadata": {},
   "source": [
    "**The goal** of this stage is to clearly define your goal(s), measures of success, and plans on how to achieve that.\n",
    "\n",
    "**The deliverable** is documentation of your goal, your measure of success, and how you plan on getting there.\n",
    "\n",
    "**How to get there:** You can get there by answering questions about the final product & formulating or identifying any initial hypotheses (from you or others).\n",
    "\n",
    "**Common questions include:**\n",
    "- What will the end product look like?\n",
    "- What format will it be in?\n",
    "- Who will it be delivered to?\n",
    "- How will it be used?\n",
    "- How will I know I'm done?\n",
    "- What is my MVP?\n",
    "- How will I know it's good enough?\n",
    "\n",
    "\n",
    "**Formulating hypotheses**\n",
    "- Is attribute V1 related to attribute V2?\n",
    "- Is the mean of target variable Y for subset A significantly different from that of subset B?"
   ]
  },
  {
   "cell_type": "markdown",
   "id": "020d86ac",
   "metadata": {},
   "source": [
    "# Acquisition"
   ]
  },
  {
   "cell_type": "markdown",
   "id": "efa5cc7b",
   "metadata": {},
   "source": [
    "**The goal** is to create a path from original data sources to the environment in which you will work with the data. You will gather data from sources in order to prepare and clean it in the next step.\n",
    "\n",
    "**The deliverable** is a file, acquire.py, that contains the function(s) needed to reproduce the acquisition of data.\n",
    "\n",
    "**How to get there:**\n",
    "\n",
    "- If the data source is SQL, you may need to do some clean-up, integration, aggregation or other manipulation of data in the SQL environment before reading the data into your python environment.\n",
    "- Using the Python library pandas, acquire the data into a dataframe using a function that reads from your source type, such as pandas.read_csv for acquiring data from a csv.\n",
    "- You may use Spark and/or Hive when acquiring data from a distributed environment, such as HDFS.\n",
    "Examples of source types include RDBMS, NoSQL, HDFS, Cloud Files (S3, google drive), static local flat files (csv, txt, xlsx)."
   ]
  },
  {
   "cell_type": "markdown",
   "id": "e14f4b53",
   "metadata": {},
   "source": [
    "# Preparation"
   ]
  },
  {
   "cell_type": "markdown",
   "id": "7b774de0",
   "metadata": {},
   "source": [
    "**The goal** is to have data, split into 3 samples (train, validate, and test), in a format that can easily be explored, analyzed and visualized. \n",
    "\n",
    "**The deliverable** is a file, prep.py, that contains the function(s) needed to reproduce the preparation of the data.\n",
    "\n",
    "**How to get there:**\n",
    "\n",
    "- Python libraries: pandas, matplotlib, seaborn, scikit-learn.\n",
    "- Use pandas to perform tasks such as handling null values, outliers, normalizing text, binning of data, changing data types, etc.\n",
    "- Use matplotlib or seaborn to plot distributions of numeric attributes and target.\n",
    "- Use scikit-learn to split the data into train and test samples."
   ]
  },
  {
   "cell_type": "markdown",
   "id": "a33ad523",
   "metadata": {},
   "source": [
    "# Exploration & Pre-Processing"
   ]
  },
  {
   "cell_type": "markdown",
   "id": "16b0c9a1",
   "metadata": {},
   "source": [
    "**The goal** is to discover features that have the largest impact on the target variable, i.e. provide the most information gain, drive the outcome.\n",
    "\n",
    "**The deliverable** is a file, preprocess.py, that contains the function(s) needed to reproduce the pre-processing of the data. \n",
    "\n",
    "The dataframe resulting from these functions should be one that is pre-processed, i.e. ready to be used in modeling. This means that attributes are reduced to features, features are in a numeric form, there are no missing values, and continuous and/or ordered values are scaled to be unitless.\n",
    "\n",
    "**How to get there:**\n",
    "\n",
    "- Use python libraries: pandas, statsmodels, scipy, numpy, matplotlib, seaborn, scikit-learn.\n",
    "- Perform statistical testing to understand correlations, significant differences in variables, variable interdependencies, etc.\n",
    "- Create visualizations that demonstrate relationships across and within attributes and target.\n",
    "- Use domain knowledge and/or information gained through exploration to construct new features.\n",
    "- Remove features that are noisy, provide no valuable or new information, or are redundant.\n",
    "- Use scikit-learn's preprocessing algorithms (feature selection, feature engineering, dummy variables, binning, clustering, e.g.) to turn attributes into features."
   ]
  },
  {
   "cell_type": "markdown",
   "id": "b7d4d5b9",
   "metadata": {},
   "source": [
    "# Modeling"
   ]
  },
  {
   "cell_type": "markdown",
   "id": "35d135ba",
   "metadata": {},
   "source": [
    "**The goal** is to create a robust and generalizable model that is a mapping between features and a target outcome.\n",
    "\n",
    "**The deliverable** is a file, model.py, that contains functions for training the model (fit), predicting the target on new data, and evaluating results.\n",
    "\n",
    "**How to get there:**\n",
    "\n",
    "- Python libraries: scikit-learn\n",
    "- Identify regression, classification, cross validataion, and/or other algorithms that are most appropriate.\n",
    "- Build your model:\n",
    "- Create the model object.\n",
    "- Fit the model to your training, or in-sample, observations.\n",
    "- Predict the target value on your training observations.\n",
    "- Evaluate results on the in-sample predictions.\n",
    "- Repeat as necessary with other algorithms or hyperparameters.\n",
    "- Using the best performing model, predict on test, out-of-sample, observations.\n",
    "- Evaluate results on the out-of-sample predictions."
   ]
  },
  {
   "cell_type": "markdown",
   "id": "d228b4bb",
   "metadata": {},
   "source": [
    "# Delivery"
   ]
  },
  {
   "cell_type": "markdown",
   "id": "e587595b",
   "metadata": {},
   "source": [
    "**The goal** is to enable others to use what you have learned or developed through all the previous stages.\n",
    "\n",
    "**The deliverable** could be of various types:\n",
    "\n",
    "- A pipeline.py file that takes new observations from acquisition to prediction using the previously built functions.\n",
    "- A fully deployed model.\n",
    "- A reproducible report and/or presentation with recommendations of actions to take based on original project goals.\n",
    "- Predictions made on a specific set of observations.\n",
    "- A dashboard for observing/monitoring the key drivers, or features, of the target variable.\n",
    "\n",
    "**How to get there:**\n",
    "\n",
    "- Python sklearn's pipeline method.\n",
    "- Tableau for creating a report, presentation, story, or dashboard.\n",
    "- Jupyter notebook for creating a report or a framework to reproduce your research, e.g.\n",
    "- Flask to build a web server that provides a gateway to our model's predictions."
   ]
  },
  {
   "cell_type": "code",
   "execution_count": null,
   "id": "155ba895",
   "metadata": {},
   "outputs": [],
   "source": []
  }
 ],
 "metadata": {
  "kernelspec": {
   "display_name": "Python 3",
   "language": "python",
   "name": "python3"
  },
  "language_info": {
   "codemirror_mode": {
    "name": "ipython",
    "version": 3
   },
   "file_extension": ".py",
   "mimetype": "text/x-python",
   "name": "python",
   "nbconvert_exporter": "python",
   "pygments_lexer": "ipython3",
   "version": "3.8.8"
  }
 },
 "nbformat": 4,
 "nbformat_minor": 5
}
